{
 "cells": [
  {
   "cell_type": "code",
   "execution_count": 1,
   "metadata": {},
   "outputs": [],
   "source": [
    "import pandas as pd\n",
    "import numpy as np\n",
    "import matplotlib.pyplot as plt\n",
    "import seaborn as sns\n",
    "from sklearn.linear_model import LinearRegression\n",
    "import statsmodels.api as sm\n",
    "pd.set_option('display.max_columns', None)\n",
    "#pd.set_option('display.max_rows', None)"
   ]
  },
  {
   "cell_type": "code",
   "execution_count": 2,
   "metadata": {},
   "outputs": [],
   "source": [
    "df = pd.read_csv(r\"...\\Salary_Data.csv\")"
   ]
  },
  {
   "cell_type": "markdown",
   "metadata": {},
   "source": [
    "## Exploring"
   ]
  },
  {
   "cell_type": "code",
   "execution_count": 3,
   "metadata": {},
   "outputs": [
    {
     "data": {
      "text/html": [
       "<div>\n",
       "<style scoped>\n",
       "    .dataframe tbody tr th:only-of-type {\n",
       "        vertical-align: middle;\n",
       "    }\n",
       "\n",
       "    .dataframe tbody tr th {\n",
       "        vertical-align: top;\n",
       "    }\n",
       "\n",
       "    .dataframe thead th {\n",
       "        text-align: right;\n",
       "    }\n",
       "</style>\n",
       "<table border=\"1\" class=\"dataframe\">\n",
       "  <thead>\n",
       "    <tr style=\"text-align: right;\">\n",
       "      <th></th>\n",
       "      <th>Age</th>\n",
       "      <th>Gender</th>\n",
       "      <th>Education Level</th>\n",
       "      <th>Job Title</th>\n",
       "      <th>Years of Experience</th>\n",
       "      <th>Salary</th>\n",
       "    </tr>\n",
       "  </thead>\n",
       "  <tbody>\n",
       "    <tr>\n",
       "      <th>0</th>\n",
       "      <td>32.0</td>\n",
       "      <td>Male</td>\n",
       "      <td>Bachelor's</td>\n",
       "      <td>Software Engineer</td>\n",
       "      <td>5.0</td>\n",
       "      <td>90000.0</td>\n",
       "    </tr>\n",
       "    <tr>\n",
       "      <th>1</th>\n",
       "      <td>28.0</td>\n",
       "      <td>Female</td>\n",
       "      <td>Master's</td>\n",
       "      <td>Data Analyst</td>\n",
       "      <td>3.0</td>\n",
       "      <td>65000.0</td>\n",
       "    </tr>\n",
       "    <tr>\n",
       "      <th>2</th>\n",
       "      <td>45.0</td>\n",
       "      <td>Male</td>\n",
       "      <td>PhD</td>\n",
       "      <td>Senior Manager</td>\n",
       "      <td>15.0</td>\n",
       "      <td>150000.0</td>\n",
       "    </tr>\n",
       "    <tr>\n",
       "      <th>3</th>\n",
       "      <td>36.0</td>\n",
       "      <td>Female</td>\n",
       "      <td>Bachelor's</td>\n",
       "      <td>Sales Associate</td>\n",
       "      <td>7.0</td>\n",
       "      <td>60000.0</td>\n",
       "    </tr>\n",
       "    <tr>\n",
       "      <th>4</th>\n",
       "      <td>52.0</td>\n",
       "      <td>Male</td>\n",
       "      <td>Master's</td>\n",
       "      <td>Director</td>\n",
       "      <td>20.0</td>\n",
       "      <td>200000.0</td>\n",
       "    </tr>\n",
       "  </tbody>\n",
       "</table>\n",
       "</div>"
      ],
      "text/plain": [
       "    Age  Gender Education Level          Job Title  Years of Experience  \\\n",
       "0  32.0    Male      Bachelor's  Software Engineer                  5.0   \n",
       "1  28.0  Female        Master's       Data Analyst                  3.0   \n",
       "2  45.0    Male             PhD     Senior Manager                 15.0   \n",
       "3  36.0  Female      Bachelor's    Sales Associate                  7.0   \n",
       "4  52.0    Male        Master's           Director                 20.0   \n",
       "\n",
       "     Salary  \n",
       "0   90000.0  \n",
       "1   65000.0  \n",
       "2  150000.0  \n",
       "3   60000.0  \n",
       "4  200000.0  "
      ]
     },
     "execution_count": 3,
     "metadata": {},
     "output_type": "execute_result"
    }
   ],
   "source": [
    "df.head()"
   ]
  },
  {
   "cell_type": "code",
   "execution_count": 4,
   "metadata": {},
   "outputs": [
    {
     "name": "stdout",
     "output_type": "stream",
     "text": [
      "######################### df-info #########################\n",
      "<class 'pandas.core.frame.DataFrame'>\n",
      "RangeIndex: 6704 entries, 0 to 6703\n",
      "Data columns (total 6 columns):\n",
      " #   Column               Non-Null Count  Dtype  \n",
      "---  ------               --------------  -----  \n",
      " 0   Age                  6702 non-null   float64\n",
      " 1   Gender               6702 non-null   object \n",
      " 2   Education Level      6701 non-null   object \n",
      " 3   Job Title            6702 non-null   object \n",
      " 4   Years of Experience  6701 non-null   float64\n",
      " 5   Salary               6699 non-null   float64\n",
      "dtypes: float64(3), object(3)\n",
      "memory usage: 314.4+ KB\n",
      "None\n",
      "######################### df-describe #########################\n",
      "               Age  Years of Experience         Salary\n",
      "count  6702.000000          6701.000000    6699.000000\n",
      "mean     33.620859             8.094687  115326.964771\n",
      "std       7.614633             6.059003   52786.183911\n",
      "min      21.000000             0.000000     350.000000\n",
      "25%      28.000000             3.000000   70000.000000\n",
      "50%      32.000000             7.000000  115000.000000\n",
      "75%      38.000000            12.000000  160000.000000\n",
      "max      62.000000            34.000000  250000.000000\n",
      "######################### df-shape #########################\n",
      "(6704, 6)\n"
     ]
    }
   ],
   "source": [
    "print(\"#\"*25, \"df-info\", \"#\"*25)\n",
    "print(df.info())\n",
    "print(\"#\"*25, \"df-describe\", \"#\"*25)\n",
    "print(df.describe())\n",
    "print(\"#\"*25, \"df-shape\", \"#\"*25)\n",
    "print(df.shape)"
   ]
  },
  {
   "cell_type": "code",
   "execution_count": 5,
   "metadata": {},
   "outputs": [
    {
     "data": {
      "text/html": [
       "<div>\n",
       "<style scoped>\n",
       "    .dataframe tbody tr th:only-of-type {\n",
       "        vertical-align: middle;\n",
       "    }\n",
       "\n",
       "    .dataframe tbody tr th {\n",
       "        vertical-align: top;\n",
       "    }\n",
       "\n",
       "    .dataframe thead th {\n",
       "        text-align: right;\n",
       "    }\n",
       "</style>\n",
       "<table border=\"1\" class=\"dataframe\">\n",
       "  <thead>\n",
       "    <tr style=\"text-align: right;\">\n",
       "      <th></th>\n",
       "      <th>Age</th>\n",
       "      <th>Gender</th>\n",
       "      <th>Education Level</th>\n",
       "      <th>Job Title</th>\n",
       "      <th>Years of Experience</th>\n",
       "      <th>Salary</th>\n",
       "    </tr>\n",
       "  </thead>\n",
       "  <tbody>\n",
       "    <tr>\n",
       "      <th>172</th>\n",
       "      <td>NaN</td>\n",
       "      <td>NaN</td>\n",
       "      <td>NaN</td>\n",
       "      <td>NaN</td>\n",
       "      <td>NaN</td>\n",
       "      <td>NaN</td>\n",
       "    </tr>\n",
       "    <tr>\n",
       "      <th>260</th>\n",
       "      <td>NaN</td>\n",
       "      <td>NaN</td>\n",
       "      <td>NaN</td>\n",
       "      <td>NaN</td>\n",
       "      <td>NaN</td>\n",
       "      <td>NaN</td>\n",
       "    </tr>\n",
       "    <tr>\n",
       "      <th>2011</th>\n",
       "      <td>27.0</td>\n",
       "      <td>Male</td>\n",
       "      <td>NaN</td>\n",
       "      <td>Developer</td>\n",
       "      <td>7.0</td>\n",
       "      <td>100000.0</td>\n",
       "    </tr>\n",
       "    <tr>\n",
       "      <th>3136</th>\n",
       "      <td>31.0</td>\n",
       "      <td>Male</td>\n",
       "      <td>Master's Degree</td>\n",
       "      <td>Full Stack Engineer</td>\n",
       "      <td>8.0</td>\n",
       "      <td>NaN</td>\n",
       "    </tr>\n",
       "    <tr>\n",
       "      <th>5247</th>\n",
       "      <td>26.0</td>\n",
       "      <td>Female</td>\n",
       "      <td>Bachelor's Degree</td>\n",
       "      <td>Social M</td>\n",
       "      <td>NaN</td>\n",
       "      <td>NaN</td>\n",
       "    </tr>\n",
       "    <tr>\n",
       "      <th>6455</th>\n",
       "      <td>36.0</td>\n",
       "      <td>Male</td>\n",
       "      <td>Bachelor's Degree</td>\n",
       "      <td>Sales Director</td>\n",
       "      <td>6.0</td>\n",
       "      <td>NaN</td>\n",
       "    </tr>\n",
       "  </tbody>\n",
       "</table>\n",
       "</div>"
      ],
      "text/plain": [
       "       Age  Gender    Education Level            Job Title  \\\n",
       "172    NaN     NaN                NaN                  NaN   \n",
       "260    NaN     NaN                NaN                  NaN   \n",
       "2011  27.0    Male                NaN            Developer   \n",
       "3136  31.0    Male    Master's Degree  Full Stack Engineer   \n",
       "5247  26.0  Female  Bachelor's Degree             Social M   \n",
       "6455  36.0    Male  Bachelor's Degree       Sales Director   \n",
       "\n",
       "      Years of Experience    Salary  \n",
       "172                   NaN       NaN  \n",
       "260                   NaN       NaN  \n",
       "2011                  7.0  100000.0  \n",
       "3136                  8.0       NaN  \n",
       "5247                  NaN       NaN  \n",
       "6455                  6.0       NaN  "
      ]
     },
     "execution_count": 5,
     "metadata": {},
     "output_type": "execute_result"
    }
   ],
   "source": [
    "null_rows = df[df.isnull().any(axis=1)]\n",
    "null_rows"
   ]
  },
  {
   "cell_type": "code",
   "execution_count": 6,
   "metadata": {},
   "outputs": [
    {
     "name": "stdout",
     "output_type": "stream",
     "text": [
      "<class 'pandas.core.frame.DataFrame'>\n",
      "Index: 6698 entries, 0 to 6703\n",
      "Data columns (total 6 columns):\n",
      " #   Column               Non-Null Count  Dtype  \n",
      "---  ------               --------------  -----  \n",
      " 0   Age                  6698 non-null   float64\n",
      " 1   Gender               6698 non-null   object \n",
      " 2   Education Level      6698 non-null   object \n",
      " 3   Job Title            6698 non-null   object \n",
      " 4   Years of Experience  6698 non-null   float64\n",
      " 5   Salary               6698 non-null   float64\n",
      "dtypes: float64(3), object(3)\n",
      "memory usage: 366.3+ KB\n"
     ]
    }
   ],
   "source": [
    "df = df.dropna()\n",
    "df.info()"
   ]
  },
  {
   "cell_type": "code",
   "execution_count": 7,
   "metadata": {},
   "outputs": [
    {
     "data": {
      "text/html": [
       "<div>\n",
       "<style scoped>\n",
       "    .dataframe tbody tr th:only-of-type {\n",
       "        vertical-align: middle;\n",
       "    }\n",
       "\n",
       "    .dataframe tbody tr th {\n",
       "        vertical-align: top;\n",
       "    }\n",
       "\n",
       "    .dataframe thead th {\n",
       "        text-align: right;\n",
       "    }\n",
       "</style>\n",
       "<table border=\"1\" class=\"dataframe\">\n",
       "  <thead>\n",
       "    <tr style=\"text-align: right;\">\n",
       "      <th></th>\n",
       "      <th>count</th>\n",
       "      <th>mean</th>\n",
       "      <th>std</th>\n",
       "      <th>min</th>\n",
       "      <th>25%</th>\n",
       "      <th>50%</th>\n",
       "      <th>75%</th>\n",
       "      <th>max</th>\n",
       "    </tr>\n",
       "  </thead>\n",
       "  <tbody>\n",
       "    <tr>\n",
       "      <th>Age</th>\n",
       "      <td>6698.0</td>\n",
       "      <td>33.623022</td>\n",
       "      <td>7.615784</td>\n",
       "      <td>21.0</td>\n",
       "      <td>28.0</td>\n",
       "      <td>32.0</td>\n",
       "      <td>38.0</td>\n",
       "      <td>62.0</td>\n",
       "    </tr>\n",
       "    <tr>\n",
       "      <th>Years of Experience</th>\n",
       "      <td>6698.0</td>\n",
       "      <td>8.095178</td>\n",
       "      <td>6.060291</td>\n",
       "      <td>0.0</td>\n",
       "      <td>3.0</td>\n",
       "      <td>7.0</td>\n",
       "      <td>12.0</td>\n",
       "      <td>34.0</td>\n",
       "    </tr>\n",
       "    <tr>\n",
       "      <th>Salary</th>\n",
       "      <td>6698.0</td>\n",
       "      <td>115329.253061</td>\n",
       "      <td>52789.792507</td>\n",
       "      <td>350.0</td>\n",
       "      <td>70000.0</td>\n",
       "      <td>115000.0</td>\n",
       "      <td>160000.0</td>\n",
       "      <td>250000.0</td>\n",
       "    </tr>\n",
       "  </tbody>\n",
       "</table>\n",
       "</div>"
      ],
      "text/plain": [
       "                      count           mean           std    min      25%  \\\n",
       "Age                  6698.0      33.623022      7.615784   21.0     28.0   \n",
       "Years of Experience  6698.0       8.095178      6.060291    0.0      3.0   \n",
       "Salary               6698.0  115329.253061  52789.792507  350.0  70000.0   \n",
       "\n",
       "                          50%       75%       max  \n",
       "Age                      32.0      38.0      62.0  \n",
       "Years of Experience       7.0      12.0      34.0  \n",
       "Salary               115000.0  160000.0  250000.0  "
      ]
     },
     "execution_count": 7,
     "metadata": {},
     "output_type": "execute_result"
    }
   ],
   "source": [
    "df.describe().transpose()"
   ]
  },
  {
   "cell_type": "code",
   "execution_count": 8,
   "metadata": {},
   "outputs": [
    {
     "data": {
      "text/html": [
       "<div>\n",
       "<style scoped>\n",
       "    .dataframe tbody tr th:only-of-type {\n",
       "        vertical-align: middle;\n",
       "    }\n",
       "\n",
       "    .dataframe tbody tr th {\n",
       "        vertical-align: top;\n",
       "    }\n",
       "\n",
       "    .dataframe thead th {\n",
       "        text-align: right;\n",
       "    }\n",
       "</style>\n",
       "<table border=\"1\" class=\"dataframe\">\n",
       "  <thead>\n",
       "    <tr style=\"text-align: right;\">\n",
       "      <th></th>\n",
       "      <th>Age</th>\n",
       "      <th>Gender</th>\n",
       "      <th>Education Level</th>\n",
       "      <th>Job Title</th>\n",
       "      <th>Years of Experience</th>\n",
       "      <th>Salary</th>\n",
       "    </tr>\n",
       "  </thead>\n",
       "  <tbody>\n",
       "    <tr>\n",
       "      <th>259</th>\n",
       "      <td>29.0</td>\n",
       "      <td>Male</td>\n",
       "      <td>Bachelor's</td>\n",
       "      <td>Junior Business Operations Analyst</td>\n",
       "      <td>1.5</td>\n",
       "      <td>350.0</td>\n",
       "    </tr>\n",
       "    <tr>\n",
       "      <th>1890</th>\n",
       "      <td>25.0</td>\n",
       "      <td>Female</td>\n",
       "      <td>Bachelor's Degree</td>\n",
       "      <td>Front end Developer</td>\n",
       "      <td>1.0</td>\n",
       "      <td>550.0</td>\n",
       "    </tr>\n",
       "    <tr>\n",
       "      <th>2654</th>\n",
       "      <td>23.0</td>\n",
       "      <td>Male</td>\n",
       "      <td>PhD</td>\n",
       "      <td>Software Engineer Manager</td>\n",
       "      <td>1.0</td>\n",
       "      <td>579.0</td>\n",
       "    </tr>\n",
       "    <tr>\n",
       "      <th>4633</th>\n",
       "      <td>31.0</td>\n",
       "      <td>Female</td>\n",
       "      <td>Bachelor's Degree</td>\n",
       "      <td>Junior HR Coordinator</td>\n",
       "      <td>4.0</td>\n",
       "      <td>500.0</td>\n",
       "    </tr>\n",
       "  </tbody>\n",
       "</table>\n",
       "</div>"
      ],
      "text/plain": [
       "       Age  Gender    Education Level                           Job Title  \\\n",
       "259   29.0    Male         Bachelor's  Junior Business Operations Analyst   \n",
       "1890  25.0  Female  Bachelor's Degree                 Front end Developer   \n",
       "2654  23.0    Male                PhD           Software Engineer Manager   \n",
       "4633  31.0  Female  Bachelor's Degree               Junior HR Coordinator   \n",
       "\n",
       "      Years of Experience  Salary  \n",
       "259                   1.5   350.0  \n",
       "1890                  1.0   550.0  \n",
       "2654                  1.0   579.0  \n",
       "4633                  4.0   500.0  "
      ]
     },
     "execution_count": 8,
     "metadata": {},
     "output_type": "execute_result"
    }
   ],
   "source": [
    "df.loc[df[\"Salary\"] < 1000]"
   ]
  },
  {
   "cell_type": "code",
   "execution_count": 9,
   "metadata": {},
   "outputs": [],
   "source": [
    "df = df.drop(df.loc[df[\"Salary\"] < 1000].index)"
   ]
  },
  {
   "cell_type": "code",
   "execution_count": 10,
   "metadata": {},
   "outputs": [
    {
     "data": {
      "text/html": [
       "<div>\n",
       "<style scoped>\n",
       "    .dataframe tbody tr th:only-of-type {\n",
       "        vertical-align: middle;\n",
       "    }\n",
       "\n",
       "    .dataframe tbody tr th {\n",
       "        vertical-align: top;\n",
       "    }\n",
       "\n",
       "    .dataframe thead th {\n",
       "        text-align: right;\n",
       "    }\n",
       "</style>\n",
       "<table border=\"1\" class=\"dataframe\">\n",
       "  <thead>\n",
       "    <tr style=\"text-align: right;\">\n",
       "      <th></th>\n",
       "      <th>Age</th>\n",
       "      <th>Gender</th>\n",
       "      <th>Education Level</th>\n",
       "      <th>Job Title</th>\n",
       "      <th>Years of Experience</th>\n",
       "      <th>Salary</th>\n",
       "    </tr>\n",
       "  </thead>\n",
       "  <tbody>\n",
       "  </tbody>\n",
       "</table>\n",
       "</div>"
      ],
      "text/plain": [
       "Empty DataFrame\n",
       "Columns: [Age, Gender, Education Level, Job Title, Years of Experience, Salary]\n",
       "Index: []"
      ]
     },
     "execution_count": 10,
     "metadata": {},
     "output_type": "execute_result"
    }
   ],
   "source": [
    "df.loc[df[\"Salary\"] < 1000]"
   ]
  },
  {
   "cell_type": "code",
   "execution_count": 11,
   "metadata": {},
   "outputs": [
    {
     "data": {
      "image/png": "[encoded data removed]",
      "text/plain": [
       "<Figure size 1000x600 with 1 Axes>"
      ]
     },
     "metadata": {},
     "output_type": "display_data"
    }
   ],
   "source": [
    "plt.figure(figsize=(10, 6))\n",
    "sns.histplot(df['Salary'], bins=30, kde=True)\n",
    "plt.title('Distribution of Salary')\n",
    "plt.xlabel('Salary')\n",
    "plt.ylabel('Frequency')\n",
    "plt.show()"
   ]
  },
  {
   "cell_type": "code",
   "execution_count": 13,
   "metadata": {},
   "outputs": [
    {
     "data": {
      "image/png": "[encoded data removed]",
      "text/plain": [
       "<Figure size 1000x600 with 1 Axes>"
      ]
     },
     "metadata": {},
     "output_type": "display_data"
    }
   ],
   "source": [
    "plt.figure(figsize=(10, 6))\n",
    "sns.scatterplot(x='Years of Experience', y='Salary', hue='Gender', data=df)\n",
    "plt.title('Salary vs. Years of Experience')\n",
    "plt.xlabel('Years of Experience')\n",
    "plt.ylabel('Salary')\n",
    "plt.show()"
   ]
  },
  {
   "cell_type": "code",
   "execution_count": 14,
   "metadata": {},
   "outputs": [
    {
     "data": {
      "image/png": "[encoded data removed]",
      "text/plain": [
       "<Figure size 640x480 with 2 Axes>"
      ]
     },
     "metadata": {},
     "output_type": "display_data"
    }
   ],
   "source": [
    "sns.heatmap(df.corr(numeric_only=True), annot=True, cmap='coolwarm')\n",
    "plt.title('Correlation Heatmap')\n",
    "plt.show()"
   ]
  },
  {
   "cell_type": "code",
   "execution_count": 15,
   "metadata": {},
   "outputs": [
    {
     "data": {
      "text/plain": [
       "' corr_matrix = df.corr(numeric_only=True)\\nmask = np.triu(np.ones_like(corr_matrix, dtype=bool))\\nplt.figure(figsize=(10, 8))\\nsns.heatmap(corr_matrix, mask=mask, annot=True, cmap=\\'coolwarm\\', vmin=-1, vmax=1, fmt=\".2f\")\\nplt.title(\\'Correlation Heatmap\\', fontsize=16)\\nplt.show() '"
      ]
     },
     "execution_count": 15,
     "metadata": {},
     "output_type": "execute_result"
    }
   ],
   "source": [
    "\"\"\" corr_matrix = df.corr(numeric_only=True)\n",
    "mask = np.triu(np.ones_like(corr_matrix, dtype=bool))\n",
    "plt.figure(figsize=(10, 8))\n",
    "sns.heatmap(corr_matrix, mask=mask, annot=True, cmap='coolwarm', vmin=-1, vmax=1, fmt=\".2f\")\n",
    "plt.title('Correlation Heatmap', fontsize=16)\n",
    "plt.show() \"\"\""
   ]
  },
  {
   "cell_type": "markdown",
   "metadata": {},
   "source": [
    "---\n",
    "---"
   ]
  },
  {
   "cell_type": "markdown",
   "metadata": {},
   "source": [
    "## Model training"
   ]
  },
  {
   "cell_type": "code",
   "execution_count": 16,
   "metadata": {},
   "outputs": [
    {
     "data": {
      "text/plain": [
       "Index(['Age', 'Years of Experience'], dtype='object')"
      ]
     },
     "execution_count": 16,
     "metadata": {},
     "output_type": "execute_result"
    }
   ],
   "source": [
    "numeric_cols = df.select_dtypes(include=[\"float64\"])\n",
    "numeric_cols= numeric_cols.drop(columns=[\"Salary\"])\n",
    "num_cols = numeric_cols.columns\n",
    "num_cols"
   ]
  },
  {
   "cell_type": "code",
   "execution_count": 17,
   "metadata": {},
   "outputs": [
    {
     "data": {
      "text/html": [
       "<style>#sk-container-id-1 {\n",
       "  /* Definition of color scheme common for light and dark mode */\n",
       "  --sklearn-color-text: black;\n",
       "  --sklearn-color-line: gray;\n",
       "  /* Definition of color scheme for unfitted estimators */\n",
       "  --sklearn-color-unfitted-level-0: #fff5e6;\n",
       "  --sklearn-color-unfitted-level-1: #f6e4d2;\n",
       "  --sklearn-color-unfitted-level-2: #ffe0b3;\n",
       "  --sklearn-color-unfitted-level-3: chocolate;\n",
       "  /* Definition of color scheme for fitted estimators */\n",
       "  --sklearn-color-fitted-level-0: #f0f8ff;\n",
       "  --sklearn-color-fitted-level-1: #d4ebff;\n",
       "  --sklearn-color-fitted-level-2: #b3dbfd;\n",
       "  --sklearn-color-fitted-level-3: cornflowerblue;\n",
       "\n",
       "  /* Specific color for light theme */\n",
       "  --sklearn-color-text-on-default-background: var(--sg-text-color, var(--theme-code-foreground, var(--jp-content-font-color1, black)));\n",
       "  --sklearn-color-background: var(--sg-background-color, var(--theme-background, var(--jp-layout-color0, white)));\n",
       "  --sklearn-color-border-box: var(--sg-text-color, var(--theme-code-foreground, var(--jp-content-font-color1, black)));\n",
       "  --sklearn-color-icon: #696969;\n",
       "\n",
       "  @media (prefers-color-scheme: dark) {\n",
       "    /* Redefinition of color scheme for dark theme */\n",
       "    --sklearn-color-text-on-default-background: var(--sg-text-color, var(--theme-code-foreground, var(--jp-content-font-color1, white)));\n",
       "    --sklearn-color-background: var(--sg-background-color, var(--theme-background, var(--jp-layout-color0, #111)));\n",
       "    --sklearn-color-border-box: var(--sg-text-color, var(--theme-code-foreground, var(--jp-content-font-color1, white)));\n",
       "    --sklearn-color-icon: #878787;\n",
       "  }\n",
       "}\n",
       "\n",
       "#sk-container-id-1 {\n",
       "  color: var(--sklearn-color-text);\n",
       "}\n",
       "\n",
       "#sk-container-id-1 pre {\n",
       "  padding: 0;\n",
       "}\n",
       "\n",
       "#sk-container-id-1 input.sk-hidden--visually {\n",
       "  border: 0;\n",
       "  clip: rect(1px 1px 1px 1px);\n",
       "  clip: rect(1px, 1px, 1px, 1px);\n",
       "  height: 1px;\n",
       "  margin: -1px;\n",
       "  overflow: hidden;\n",
       "  padding: 0;\n",
       "  position: absolute;\n",
       "  width: 1px;\n",
       "}\n",
       "\n",
       "#sk-container-id-1 div.sk-dashed-wrapped {\n",
       "  border: 1px dashed var(--sklearn-color-line);\n",
       "  margin: 0 0.4em 0.5em 0.4em;\n",
       "  box-sizing: border-box;\n",
       "  padding-bottom: 0.4em;\n",
       "  background-color: var(--sklearn-color-background);\n",
       "}\n",
       "\n",
       "#sk-container-id-1 div.sk-container {\n",
       "  /* jupyter's `normalize.less` sets `[hidden] { display: none; }`\n",
       "     but bootstrap.min.css set `[hidden] { display: none !important; }`\n",
       "     so we also need the `!important` here to be able to override the\n",
       "     default hidden behavior on the sphinx rendered scikit-learn.org.\n",
       "     See: https://github.com/scikit-learn/scikit-learn/issues/21755 */\n",
       "  display: inline-block !important;\n",
       "  position: relative;\n",
       "}\n",
       "\n",
       "#sk-container-id-1 div.sk-text-repr-fallback {\n",
       "  display: none;\n",
       "}\n",
       "\n",
       "div.sk-parallel-item,\n",
       "div.sk-serial,\n",
       "div.sk-item {\n",
       "  /* draw centered vertical line to link estimators */\n",
       "  background-image: linear-gradient(var(--sklearn-color-text-on-default-background), var(--sklearn-color-text-on-default-background));\n",
       "  background-size: 2px 100%;\n",
       "  background-repeat: no-repeat;\n",
       "  background-position: center center;\n",
       "}\n",
       "\n",
       "/* Parallel-specific style estimator block */\n",
       "\n",
       "#sk-container-id-1 div.sk-parallel-item::after {\n",
       "  content: \"\";\n",
       "  width: 100%;\n",
       "  border-bottom: 2px solid var(--sklearn-color-text-on-default-background);\n",
       "  flex-grow: 1;\n",
       "}\n",
       "\n",
       "#sk-container-id-1 div.sk-parallel {\n",
       "  display: flex;\n",
       "  align-items: stretch;\n",
       "  justify-content: center;\n",
       "  background-color: var(--sklearn-color-background);\n",
       "  position: relative;\n",
       "}\n",
       "\n",
       "#sk-container-id-1 div.sk-parallel-item {\n",
       "  display: flex;\n",
       "  flex-direction: column;\n",
       "}\n",
       "\n",
       "#sk-container-id-1 div.sk-parallel-item:first-child::after {\n",
       "  align-self: flex-end;\n",
       "  width: 50%;\n",
       "}\n",
       "\n",
       "#sk-container-id-1 div.sk-parallel-item:last-child::after {\n",
       "  align-self: flex-start;\n",
       "  width: 50%;\n",
       "}\n",
       "\n",
       "#sk-container-id-1 div.sk-parallel-item:only-child::after {\n",
       "  width: 0;\n",
       "}\n",
       "\n",
       "/* Serial-specific style estimator block */\n",
       "\n",
       "#sk-container-id-1 div.sk-serial {\n",
       "  display: flex;\n",
       "  flex-direction: column;\n",
       "  align-items: center;\n",
       "  background-color: var(--sklearn-color-background);\n",
       "  padding-right: 1em;\n",
       "  padding-left: 1em;\n",
       "}\n",
       "\n",
       "\n",
       "/* Toggleable style: style used for estimator/Pipeline/ColumnTransformer box that is\n",
       "clickable and can be expanded/collapsed.\n",
       "- Pipeline and ColumnTransformer use this feature and define the default style\n",
       "- Estimators will overwrite some part of the style using the `sk-estimator` class\n",
       "*/\n",
       "\n",
       "/* Pipeline and ColumnTransformer style (default) */\n",
       "\n",
       "#sk-container-id-1 div.sk-toggleable {\n",
       "  /* Default theme specific background. It is overwritten whether we have a\n",
       "  specific estimator or a Pipeline/ColumnTransformer */\n",
       "  background-color: var(--sklearn-color-background);\n",
       "}\n",
       "\n",
       "/* Toggleable label */\n",
       "#sk-container-id-1 label.sk-toggleable__label {\n",
       "  cursor: pointer;\n",
       "  display: block;\n",
       "  width: 100%;\n",
       "  margin-bottom: 0;\n",
       "  padding: 0.5em;\n",
       "  box-sizing: border-box;\n",
       "  text-align: center;\n",
       "}\n",
       "\n",
       "#sk-container-id-1 label.sk-toggleable__label-arrow:before {\n",
       "  /* Arrow on the left of the label */\n",
       "  content: \"▸\";\n",
       "  float: left;\n",
       "  margin-right: 0.25em;\n",
       "  color: var(--sklearn-color-icon);\n",
       "}\n",
       "\n",
       "#sk-container-id-1 label.sk-toggleable__label-arrow:hover:before {\n",
       "  color: var(--sklearn-color-text);\n",
       "}\n",
       "\n",
       "/* Toggleable content - dropdown */\n",
       "\n",
       "#sk-container-id-1 div.sk-toggleable__content {\n",
       "  max-height: 0;\n",
       "  max-width: 0;\n",
       "  overflow: hidden;\n",
       "  text-align: left;\n",
       "  /* unfitted */\n",
       "  background-color: var(--sklearn-color-unfitted-level-0);\n",
       "}\n",
       "\n",
       "#sk-container-id-1 div.sk-toggleable__content.fitted {\n",
       "  /* fitted */\n",
       "  background-color: var(--sklearn-color-fitted-level-0);\n",
       "}\n",
       "\n",
       "#sk-container-id-1 div.sk-toggleable__content pre {\n",
       "  margin: 0.2em;\n",
       "  border-radius: 0.25em;\n",
       "  color: var(--sklearn-color-text);\n",
       "  /* unfitted */\n",
       "  background-color: var(--sklearn-color-unfitted-level-0);\n",
       "}\n",
       "\n",
       "#sk-container-id-1 div.sk-toggleable__content.fitted pre {\n",
       "  /* unfitted */\n",
       "  background-color: var(--sklearn-color-fitted-level-0);\n",
       "}\n",
       "\n",
       "#sk-container-id-1 input.sk-toggleable__control:checked~div.sk-toggleable__content {\n",
       "  /* Expand drop-down */\n",
       "  max-height: 200px;\n",
       "  max-width: 100%;\n",
       "  overflow: auto;\n",
       "}\n",
       "\n",
       "#sk-container-id-1 input.sk-toggleable__control:checked~label.sk-toggleable__label-arrow:before {\n",
       "  content: \"▾\";\n",
       "}\n",
       "\n",
       "/* Pipeline/ColumnTransformer-specific style */\n",
       "\n",
       "#sk-container-id-1 div.sk-label input.sk-toggleable__control:checked~label.sk-toggleable__label {\n",
       "  color: var(--sklearn-color-text);\n",
       "  background-color: var(--sklearn-color-unfitted-level-2);\n",
       "}\n",
       "\n",
       "#sk-container-id-1 div.sk-label.fitted input.sk-toggleable__control:checked~label.sk-toggleable__label {\n",
       "  background-color: var(--sklearn-color-fitted-level-2);\n",
       "}\n",
       "\n",
       "/* Estimator-specific style */\n",
       "\n",
       "/* Colorize estimator box */\n",
       "#sk-container-id-1 div.sk-estimator input.sk-toggleable__control:checked~label.sk-toggleable__label {\n",
       "  /* unfitted */\n",
       "  background-color: var(--sklearn-color-unfitted-level-2);\n",
       "}\n",
       "\n",
       "#sk-container-id-1 div.sk-estimator.fitted input.sk-toggleable__control:checked~label.sk-toggleable__label {\n",
       "  /* fitted */\n",
       "  background-color: var(--sklearn-color-fitted-level-2);\n",
       "}\n",
       "\n",
       "#sk-container-id-1 div.sk-label label.sk-toggleable__label,\n",
       "#sk-container-id-1 div.sk-label label {\n",
       "  /* The background is the default theme color */\n",
       "  color: var(--sklearn-color-text-on-default-background);\n",
       "}\n",
       "\n",
       "/* On hover, darken the color of the background */\n",
       "#sk-container-id-1 div.sk-label:hover label.sk-toggleable__label {\n",
       "  color: var(--sklearn-color-text);\n",
       "  background-color: var(--sklearn-color-unfitted-level-2);\n",
       "}\n",
       "\n",
       "/* Label box, darken color on hover, fitted */\n",
       "#sk-container-id-1 div.sk-label.fitted:hover label.sk-toggleable__label.fitted {\n",
       "  color: var(--sklearn-color-text);\n",
       "  background-color: var(--sklearn-color-fitted-level-2);\n",
       "}\n",
       "\n",
       "/* Estimator label */\n",
       "\n",
       "#sk-container-id-1 div.sk-label label {\n",
       "  font-family: monospace;\n",
       "  font-weight: bold;\n",
       "  display: inline-block;\n",
       "  line-height: 1.2em;\n",
       "}\n",
       "\n",
       "#sk-container-id-1 div.sk-label-container {\n",
       "  text-align: center;\n",
       "}\n",
       "\n",
       "/* Estimator-specific */\n",
       "#sk-container-id-1 div.sk-estimator {\n",
       "  font-family: monospace;\n",
       "  border: 1px dotted var(--sklearn-color-border-box);\n",
       "  border-radius: 0.25em;\n",
       "  box-sizing: border-box;\n",
       "  margin-bottom: 0.5em;\n",
       "  /* unfitted */\n",
       "  background-color: var(--sklearn-color-unfitted-level-0);\n",
       "}\n",
       "\n",
       "#sk-container-id-1 div.sk-estimator.fitted {\n",
       "  /* fitted */\n",
       "  background-color: var(--sklearn-color-fitted-level-0);\n",
       "}\n",
       "\n",
       "/* on hover */\n",
       "#sk-container-id-1 div.sk-estimator:hover {\n",
       "  /* unfitted */\n",
       "  background-color: var(--sklearn-color-unfitted-level-2);\n",
       "}\n",
       "\n",
       "#sk-container-id-1 div.sk-estimator.fitted:hover {\n",
       "  /* fitted */\n",
       "  background-color: var(--sklearn-color-fitted-level-2);\n",
       "}\n",
       "\n",
       "/* Specification for estimator info (e.g. \"i\" and \"?\") */\n",
       "\n",
       "/* Common style for \"i\" and \"?\" */\n",
       "\n",
       ".sk-estimator-doc-link,\n",
       "a:link.sk-estimator-doc-link,\n",
       "a:visited.sk-estimator-doc-link {\n",
       "  float: right;\n",
       "  font-size: smaller;\n",
       "  line-height: 1em;\n",
       "  font-family: monospace;\n",
       "  background-color: var(--sklearn-color-background);\n",
       "  border-radius: 1em;\n",
       "  height: 1em;\n",
       "  width: 1em;\n",
       "  text-decoration: none !important;\n",
       "  margin-left: 1ex;\n",
       "  /* unfitted */\n",
       "  border: var(--sklearn-color-unfitted-level-1) 1pt solid;\n",
       "  color: var(--sklearn-color-unfitted-level-1);\n",
       "}\n",
       "\n",
       ".sk-estimator-doc-link.fitted,\n",
       "a:link.sk-estimator-doc-link.fitted,\n",
       "a:visited.sk-estimator-doc-link.fitted {\n",
       "  /* fitted */\n",
       "  border: var(--sklearn-color-fitted-level-1) 1pt solid;\n",
       "  color: var(--sklearn-color-fitted-level-1);\n",
       "}\n",
       "\n",
       "/* On hover */\n",
       "div.sk-estimator:hover .sk-estimator-doc-link:hover,\n",
       ".sk-estimator-doc-link:hover,\n",
       "div.sk-label-container:hover .sk-estimator-doc-link:hover,\n",
       ".sk-estimator-doc-link:hover {\n",
       "  /* unfitted */\n",
       "  background-color: var(--sklearn-color-unfitted-level-3);\n",
       "  color: var(--sklearn-color-background);\n",
       "  text-decoration: none;\n",
       "}\n",
       "\n",
       "div.sk-estimator.fitted:hover .sk-estimator-doc-link.fitted:hover,\n",
       ".sk-estimator-doc-link.fitted:hover,\n",
       "div.sk-label-container:hover .sk-estimator-doc-link.fitted:hover,\n",
       ".sk-estimator-doc-link.fitted:hover {\n",
       "  /* fitted */\n",
       "  background-color: var(--sklearn-color-fitted-level-3);\n",
       "  color: var(--sklearn-color-background);\n",
       "  text-decoration: none;\n",
       "}\n",
       "\n",
       "/* Span, style for the box shown on hovering the info icon */\n",
       ".sk-estimator-doc-link span {\n",
       "  display: none;\n",
       "  z-index: 9999;\n",
       "  position: relative;\n",
       "  font-weight: normal;\n",
       "  right: .2ex;\n",
       "  padding: .5ex;\n",
       "  margin: .5ex;\n",
       "  width: min-content;\n",
       "  min-width: 20ex;\n",
       "  max-width: 50ex;\n",
       "  color: var(--sklearn-color-text);\n",
       "  box-shadow: 2pt 2pt 4pt #999;\n",
       "  /* unfitted */\n",
       "  background: var(--sklearn-color-unfitted-level-0);\n",
       "  border: .5pt solid var(--sklearn-color-unfitted-level-3);\n",
       "}\n",
       "\n",
       ".sk-estimator-doc-link.fitted span {\n",
       "  /* fitted */\n",
       "  background: var(--sklearn-color-fitted-level-0);\n",
       "  border: var(--sklearn-color-fitted-level-3);\n",
       "}\n",
       "\n",
       ".sk-estimator-doc-link:hover span {\n",
       "  display: block;\n",
       "}\n",
       "\n",
       "/* \"?\"-specific style due to the `<a>` HTML tag */\n",
       "\n",
       "#sk-container-id-1 a.estimator_doc_link {\n",
       "  float: right;\n",
       "  font-size: 1rem;\n",
       "  line-height: 1em;\n",
       "  font-family: monospace;\n",
       "  background-color: var(--sklearn-color-background);\n",
       "  border-radius: 1rem;\n",
       "  height: 1rem;\n",
       "  width: 1rem;\n",
       "  text-decoration: none;\n",
       "  /* unfitted */\n",
       "  color: var(--sklearn-color-unfitted-level-1);\n",
       "  border: var(--sklearn-color-unfitted-level-1) 1pt solid;\n",
       "}\n",
       "\n",
       "#sk-container-id-1 a.estimator_doc_link.fitted {\n",
       "  /* fitted */\n",
       "  border: var(--sklearn-color-fitted-level-1) 1pt solid;\n",
       "  color: var(--sklearn-color-fitted-level-1);\n",
       "}\n",
       "\n",
       "/* On hover */\n",
       "#sk-container-id-1 a.estimator_doc_link:hover {\n",
       "  /* unfitted */\n",
       "  background-color: var(--sklearn-color-unfitted-level-3);\n",
       "  color: var(--sklearn-color-background);\n",
       "  text-decoration: none;\n",
       "}\n",
       "\n",
       "#sk-container-id-1 a.estimator_doc_link.fitted:hover {\n",
       "  /* fitted */\n",
       "  background-color: var(--sklearn-color-fitted-level-3);\n",
       "}\n",
       "</style><div id=\"sk-container-id-1\" class=\"sk-top-container\"><div class=\"sk-text-repr-fallback\"><pre>LinearRegression()</pre><b>In a Jupyter environment, please rerun this cell to show the HTML representation or trust the notebook. <br />On GitHub, the HTML representation is unable to render, please try loading this page with nbviewer.org.</b></div><div class=\"sk-container\" hidden><div class=\"sk-item\"><div class=\"sk-estimator fitted sk-toggleable\"><input class=\"sk-toggleable__control sk-hidden--visually\" id=\"sk-estimator-id-1\" type=\"checkbox\" checked><label for=\"sk-estimator-id-1\" class=\"sk-toggleable__label fitted sk-toggleable__label-arrow fitted\">&nbsp;&nbsp;LinearRegression<a class=\"sk-estimator-doc-link fitted\" rel=\"noreferrer\" target=\"_blank\" href=\"https://scikit-learn.org/1.4/modules/generated/sklearn.linear_model.LinearRegression.html\">?<span>Documentation for LinearRegression</span></a><span class=\"sk-estimator-doc-link fitted\">i<span>Fitted</span></span></label><div class=\"sk-toggleable__content fitted\"><pre>LinearRegression()</pre></div> </div></div></div></div>"
      ],
      "text/plain": [
       "LinearRegression()"
      ]
     },
     "execution_count": 17,
     "metadata": {},
     "output_type": "execute_result"
    }
   ],
   "source": [
    "from sklearn.model_selection import train_test_split\n",
    "\n",
    "X = df[num_cols]\n",
    "Y = df[\"Salary\"]\n",
    "\n",
    "X_train, X_test, y_train, y_test = train_test_split(X, Y, test_size=0.20, random_state=42)\n",
    "\n",
    "model = LinearRegression()\n",
    "model.fit(X_train, y_train)"
   ]
  },
  {
   "cell_type": "code",
   "execution_count": 18,
   "metadata": {},
   "outputs": [
    {
     "data": {
      "text/html": [
       "<div>\n",
       "<style scoped>\n",
       "    .dataframe tbody tr th:only-of-type {\n",
       "        vertical-align: middle;\n",
       "    }\n",
       "\n",
       "    .dataframe tbody tr th {\n",
       "        vertical-align: top;\n",
       "    }\n",
       "\n",
       "    .dataframe thead th {\n",
       "        text-align: right;\n",
       "    }\n",
       "</style>\n",
       "<table border=\"1\" class=\"dataframe\">\n",
       "  <thead>\n",
       "    <tr style=\"text-align: right;\">\n",
       "      <th></th>\n",
       "      <th>count</th>\n",
       "      <th>mean</th>\n",
       "      <th>std</th>\n",
       "      <th>min</th>\n",
       "      <th>25%</th>\n",
       "      <th>50%</th>\n",
       "      <th>75%</th>\n",
       "      <th>max</th>\n",
       "    </tr>\n",
       "  </thead>\n",
       "  <tbody>\n",
       "    <tr>\n",
       "      <th>Age</th>\n",
       "      <td>6694.0</td>\n",
       "      <td>33.63</td>\n",
       "      <td>7.62</td>\n",
       "      <td>21.0</td>\n",
       "      <td>28.0</td>\n",
       "      <td>32.0</td>\n",
       "      <td>38.0</td>\n",
       "      <td>62.0</td>\n",
       "    </tr>\n",
       "    <tr>\n",
       "      <th>Years of Experience</th>\n",
       "      <td>6694.0</td>\n",
       "      <td>8.10</td>\n",
       "      <td>6.06</td>\n",
       "      <td>0.0</td>\n",
       "      <td>3.0</td>\n",
       "      <td>7.0</td>\n",
       "      <td>12.0</td>\n",
       "      <td>34.0</td>\n",
       "    </tr>\n",
       "    <tr>\n",
       "      <th>Salary</th>\n",
       "      <td>6694.0</td>\n",
       "      <td>115397.87</td>\n",
       "      <td>52730.84</td>\n",
       "      <td>25000.0</td>\n",
       "      <td>70000.0</td>\n",
       "      <td>115000.0</td>\n",
       "      <td>160000.0</td>\n",
       "      <td>250000.0</td>\n",
       "    </tr>\n",
       "  </tbody>\n",
       "</table>\n",
       "</div>"
      ],
      "text/plain": [
       "                      count       mean       std      min      25%       50%  \\\n",
       "Age                  6694.0      33.63      7.62     21.0     28.0      32.0   \n",
       "Years of Experience  6694.0       8.10      6.06      0.0      3.0       7.0   \n",
       "Salary               6694.0  115397.87  52730.84  25000.0  70000.0  115000.0   \n",
       "\n",
       "                          75%       max  \n",
       "Age                      38.0      62.0  \n",
       "Years of Experience      12.0      34.0  \n",
       "Salary               160000.0  250000.0  "
      ]
     },
     "execution_count": 18,
     "metadata": {},
     "output_type": "execute_result"
    }
   ],
   "source": [
    "df.describe().transpose().round(2)"
   ]
  },
  {
   "cell_type": "markdown",
   "metadata": {},
   "source": [
    "## Model Summary\n",
    "- 'Age' ve 'Years of Experience'a göre model"
   ]
  },
  {
   "cell_type": "code",
   "execution_count": 19,
   "metadata": {},
   "outputs": [
    {
     "name": "stdout",
     "output_type": "stream",
     "text": [
      "                            OLS Regression Results                            \n",
      "==============================================================================\n",
      "Dep. Variable:                 Salary   R-squared:                       0.663\n",
      "Model:                            OLS   Adj. R-squared:                  0.663\n",
      "Method:                 Least Squares   F-statistic:                     5269.\n",
      "Date:                Tue, 10 Dec 2024   Prob (F-statistic):               0.00\n",
      "Time:                        18:46:37   Log-Likelihood:                -62920.\n",
      "No. Observations:                5355   AIC:                         1.258e+05\n",
      "Df Residuals:                    5352   BIC:                         1.259e+05\n",
      "Df Model:                           2                                         \n",
      "Covariance Type:            nonrobust                                         \n",
      "=======================================================================================\n",
      "                          coef    std err          t      P>|t|      [0.025      0.975]\n",
      "---------------------------------------------------------------------------------------\n",
      "const                 9.97e+04   3857.673     25.845      0.000    9.21e+04    1.07e+05\n",
      "Age                 -1725.8437    157.596    -10.951      0.000   -2034.795   -1416.892\n",
      "Years of Experience  9101.8675    198.323     45.894      0.000    8713.073    9490.662\n",
      "==============================================================================\n",
      "Omnibus:                      113.328   Durbin-Watson:                   2.033\n",
      "Prob(Omnibus):                  0.000   Jarque-Bera (JB):              130.194\n",
      "Skew:                           0.312   Prob(JB):                     5.36e-29\n",
      "Kurtosis:                       3.441   Cond. No.                         329.\n",
      "==============================================================================\n",
      "\n",
      "Notes:\n",
      "[1] Standard Errors assume that the covariance matrix of the errors is correctly specified.\n",
      "\n",
      "#OOO# İntercept is :  99699.96\n"
     ]
    }
   ],
   "source": [
    "X_train_sm = sm.add_constant(X_train)\n",
    "model_sm = sm.OLS(y_train, X_train_sm).fit()\n",
    "\n",
    "print(model_sm.summary())\n",
    "\n",
    "intercept = model.intercept_\n",
    "print(\"\\n#OOO# İntercept is : \", intercept.round(2))"
   ]
  },
  {
   "cell_type": "code",
   "execution_count": 20,
   "metadata": {},
   "outputs": [
    {
     "data": {
      "text/html": [
       "<div>\n",
       "<style scoped>\n",
       "    .dataframe tbody tr th:only-of-type {\n",
       "        vertical-align: middle;\n",
       "    }\n",
       "\n",
       "    .dataframe tbody tr th {\n",
       "        vertical-align: top;\n",
       "    }\n",
       "\n",
       "    .dataframe thead th {\n",
       "        text-align: right;\n",
       "    }\n",
       "</style>\n",
       "<table border=\"1\" class=\"dataframe\">\n",
       "  <thead>\n",
       "    <tr style=\"text-align: right;\">\n",
       "      <th></th>\n",
       "      <th>Age</th>\n",
       "      <th>Years of Experience</th>\n",
       "    </tr>\n",
       "  </thead>\n",
       "  <tbody>\n",
       "    <tr>\n",
       "      <th>2129</th>\n",
       "      <td>33.0</td>\n",
       "      <td>6.0</td>\n",
       "    </tr>\n",
       "    <tr>\n",
       "      <th>4170</th>\n",
       "      <td>37.0</td>\n",
       "      <td>10.0</td>\n",
       "    </tr>\n",
       "    <tr>\n",
       "      <th>3255</th>\n",
       "      <td>42.0</td>\n",
       "      <td>14.0</td>\n",
       "    </tr>\n",
       "    <tr>\n",
       "      <th>6649</th>\n",
       "      <td>36.0</td>\n",
       "      <td>10.0</td>\n",
       "    </tr>\n",
       "    <tr>\n",
       "      <th>1776</th>\n",
       "      <td>29.0</td>\n",
       "      <td>5.0</td>\n",
       "    </tr>\n",
       "  </tbody>\n",
       "</table>\n",
       "</div>"
      ],
      "text/plain": [
       "       Age  Years of Experience\n",
       "2129  33.0                  6.0\n",
       "4170  37.0                 10.0\n",
       "3255  42.0                 14.0\n",
       "6649  36.0                 10.0\n",
       "1776  29.0                  5.0"
      ]
     },
     "execution_count": 20,
     "metadata": {},
     "output_type": "execute_result"
    }
   ],
   "source": [
    "X_train.head()"
   ]
  },
  {
   "cell_type": "code",
   "execution_count": 21,
   "metadata": {},
   "outputs": [
    {
     "data": {
      "text/plain": [
       "2129    115000.0\n",
       "4170    113000.0\n",
       "3255    180000.0\n",
       "6649    100000.0\n",
       "1776    105000.0\n",
       "Name: Salary, dtype: float64"
      ]
     },
     "execution_count": 21,
     "metadata": {},
     "output_type": "execute_result"
    }
   ],
   "source": [
    "y_train.head()"
   ]
  },
  {
   "cell_type": "markdown",
   "metadata": {},
   "source": [
    "yeni veri gelirse model nasıl performans göstericeğini simüle ediyo."
   ]
  },
  {
   "cell_type": "code",
   "execution_count": 22,
   "metadata": {},
   "outputs": [
    {
     "name": "stdout",
     "output_type": "stream",
     "text": [
      "########## TRAIN ##########\n",
      "Train R^2: 0.66317\n",
      "Train MAE: 24,549.46\n",
      "Train MSE: 940,381,642.44\n",
      "\n",
      "########## TEST ##########\n",
      "Test R^2: 0.65823\n",
      "Test MAE: 24,256.89\n",
      "Test MSE: 933,520,986.26\n",
      "\n",
      "########## Overfitting Control ##########\n",
      "Linear Regression Test MSE - Train MSE Difference: -6,860,656.19\n",
      "Percentage Difference: -0.73%\n"
     ]
    }
   ],
   "source": [
    "from sklearn.metrics import mean_squared_error, r2_score, mean_absolute_error\n",
    "\n",
    "y_train_pred = model.predict(X_train)\n",
    "y_test_pred = model.predict(X_test)\n",
    "\n",
    "train_r2 = r2_score(y_train, y_train_pred)\n",
    "train_mse = mean_squared_error(y_train, y_train_pred)\n",
    "train_mae = mean_absolute_error(y_train, y_train_pred)\n",
    "\n",
    "test_r2 = r2_score(y_test, y_test_pred)\n",
    "test_mse = mean_squared_error(y_test, y_test_pred)\n",
    "test_mae = mean_absolute_error(y_test, y_test_pred)\n",
    "\n",
    "\n",
    "print(\"#\"*10, \"TRAIN\", \"#\"*10)\n",
    "print(f'Train R^2: {train_r2:.5f}')\n",
    "print(f'Train MAE: {train_mae:,.2f}')\n",
    "print(f'Train MSE: {train_mse:,.2f}')\n",
    "print(\"\")\n",
    "print(\"#\"*10, \"TEST\", \"#\"*10)\n",
    "print(f'Test R^2: {test_r2:.5f}')\n",
    "print(f'Test MAE: {test_mae:,.2f}')\n",
    "print(f'Test MSE: {test_mse:,.2f}')\n",
    "print(\"\")\n",
    "print(\"#\"*10, \"Overfitting Control\", \"#\"*10)\n",
    "print(f\"Linear Regression Test MSE - Train MSE Difference: {test_mse - train_mse:,.2f}\")\n",
    "print(f\"Percentage Difference: {((test_mse - train_mse) / train_mse) * 100:.2f}%\")"
   ]
  },
  {
   "cell_type": "code",
   "execution_count": 23,
   "metadata": {},
   "outputs": [
    {
     "data": {
      "text/plain": [
       "' # Manuel mse \\nmse = 0\\nfor i,j in zip(y_test,y_test_pred):\\n    mse += (i-j)**2/len(y_test)\\n    print(f\"{i} - {j.round(2)} is :  {((i - j).round(2))}\")\\nprint(\"mse in test data is : \", mse.round(2)) '"
      ]
     },
     "execution_count": 23,
     "metadata": {},
     "output_type": "execute_result"
    }
   ],
   "source": [
    "\"\"\" # Manuel mse \n",
    "mse = 0\n",
    "for i,j in zip(y_test,y_test_pred):\n",
    "    mse += (i-j)**2/len(y_test)\n",
    "    print(f\"{i} - {j.round(2)} is :  {((i - j).round(2))}\")\n",
    "print(\"mse in test data is : \", mse.round(2)) \"\"\""
   ]
  },
  {
   "cell_type": "code",
   "execution_count": 24,
   "metadata": {},
   "outputs": [
    {
     "data": {
      "image/png": "[encoded data removed]",
      "text/plain": [
       "<Figure size 1000x600 with 1 Axes>"
      ]
     },
     "metadata": {},
     "output_type": "display_data"
    }
   ],
   "source": [
    "plt.figure(figsize=(10, 6))\n",
    "plt.scatter(y_test, y_test, color='red',alpha=0.5, label='Actual Values')\n",
    "plt.scatter(y_test, y_test_pred, color='blue', alpha=0.5, label='Predicted Values')\n",
    "plt.xlabel('Actual Values')\n",
    "plt.ylabel('Predicted Values')\n",
    "plt.title(f'Test Data: Predicted vs Actual Values (R^2: {test_r2:.5f})')\n",
    "plt.legend()\n",
    "plt.show()"
   ]
  },
  {
   "cell_type": "code",
   "execution_count": 25,
   "metadata": {},
   "outputs": [
    {
     "data": {
      "image/png": "[encoded data removed]",
      "text/plain": [
       "<Figure size 1000x600 with 1 Axes>"
      ]
     },
     "metadata": {},
     "output_type": "display_data"
    }
   ],
   "source": [
    "plt.figure(figsize=(10, 6))\n",
    "plt.scatter(y_train, y_train, color='red',alpha=0.5, label='Actual Values')\n",
    "plt.scatter(y_train, y_train_pred, color='blue', alpha=0.5, label='Predicted Values')\n",
    "plt.xlabel('Actual Values')\n",
    "plt.ylabel('Predicted Values')\n",
    "plt.title(f'Train Data: Predicted vs Actual Values (R^2: {train_r2:.5f})')\n",
    "plt.legend()\n",
    "plt.show()"
   ]
  },
  {
   "cell_type": "markdown",
   "metadata": {},
   "source": [
    "---\n",
    "---\n",
    "---\n",
    "---\n"
   ]
  },
  {
   "cell_type": "markdown",
   "metadata": {},
   "source": [
    "### Şimdi Kategorik değişkenleri modele dahil edelim.\n"
   ]
  },
  {
   "cell_type": "code",
   "execution_count": 26,
   "metadata": {},
   "outputs": [
    {
     "name": "stdout",
     "output_type": "stream",
     "text": [
      "<class 'pandas.core.frame.DataFrame'>\n",
      "Index: 6694 entries, 0 to 6703\n",
      "Data columns (total 3 columns):\n",
      " #   Column           Non-Null Count  Dtype \n",
      "---  ------           --------------  ----- \n",
      " 0   Gender           6694 non-null   object\n",
      " 1   Education Level  6694 non-null   object\n",
      " 2   Job Title        6694 non-null   object\n",
      "dtypes: object(3)\n",
      "memory usage: 209.2+ KB\n"
     ]
    }
   ],
   "source": [
    "df.select_dtypes(include=['object']).info()"
   ]
  },
  {
   "cell_type": "code",
   "execution_count": 27,
   "metadata": {},
   "outputs": [
    {
     "name": "stdout",
     "output_type": "stream",
     "text": [
      "########## \n",
      "Gender\n",
      "Male      3669\n",
      "Female    3011\n",
      "Other       14\n",
      "Name: count, dtype: int64\n",
      "########## \n",
      "Education Level\n",
      "Bachelor's Degree    2263\n",
      "Master's Degree      1572\n",
      "PhD                  1367\n",
      "Bachelor's            755\n",
      "High School           448\n",
      "Master's              288\n",
      "phD                     1\n",
      "Name: count, dtype: int64\n",
      "########## \n",
      "Job Title\n",
      "Software Engineer             518\n",
      "Data Scientist                453\n",
      "Software Engineer Manager     375\n",
      "Data Analyst                  363\n",
      "Senior Project Engineer       318\n",
      "                             ... \n",
      "Account Manager                 1\n",
      "Help Desk Analyst               1\n",
      "Senior Training Specialist      1\n",
      "Junior Web Designer             1\n",
      "Software Project Manager        1\n",
      "Name: count, Length: 191, dtype: int64\n"
     ]
    }
   ],
   "source": [
    "df_cat = df.select_dtypes(include=[\"object\"])\n",
    "for col in df_cat.columns:\n",
    "    print(f\"########## \")\n",
    "    print(df_cat[col].value_counts())"
   ]
  },
  {
   "cell_type": "markdown",
   "metadata": {},
   "source": [
    "\"Education Level\" için Label Encoding veya mapping yapıcaz \n",
    "\"Gender\" ve \"Job Title\" için One-Hot Encoding yapıcaz.\n",
    "\n",
    "Label Encoding/Mapping sıralı, One-Hot Encoding sırasızlar için uygulanması daha doğru."
   ]
  },
  {
   "cell_type": "code",
   "execution_count": 28,
   "metadata": {},
   "outputs": [
    {
     "data": {
      "text/html": [
       "<div>\n",
       "<style scoped>\n",
       "    .dataframe tbody tr th:only-of-type {\n",
       "        vertical-align: middle;\n",
       "    }\n",
       "\n",
       "    .dataframe tbody tr th {\n",
       "        vertical-align: top;\n",
       "    }\n",
       "\n",
       "    .dataframe thead th {\n",
       "        text-align: right;\n",
       "    }\n",
       "</style>\n",
       "<table border=\"1\" class=\"dataframe\">\n",
       "  <thead>\n",
       "    <tr style=\"text-align: right;\">\n",
       "      <th></th>\n",
       "      <th>Age</th>\n",
       "      <th>Gender</th>\n",
       "      <th>Education Level</th>\n",
       "      <th>Job Title</th>\n",
       "      <th>Years of Experience</th>\n",
       "      <th>Salary</th>\n",
       "    </tr>\n",
       "  </thead>\n",
       "  <tbody>\n",
       "    <tr>\n",
       "      <th>0</th>\n",
       "      <td>32.0</td>\n",
       "      <td>Male</td>\n",
       "      <td>Bachelor's</td>\n",
       "      <td>Software Engineer</td>\n",
       "      <td>5.0</td>\n",
       "      <td>90000.0</td>\n",
       "    </tr>\n",
       "    <tr>\n",
       "      <th>1</th>\n",
       "      <td>28.0</td>\n",
       "      <td>Female</td>\n",
       "      <td>Master's</td>\n",
       "      <td>Data Analyst</td>\n",
       "      <td>3.0</td>\n",
       "      <td>65000.0</td>\n",
       "    </tr>\n",
       "    <tr>\n",
       "      <th>2</th>\n",
       "      <td>45.0</td>\n",
       "      <td>Male</td>\n",
       "      <td>PhD</td>\n",
       "      <td>Senior Manager</td>\n",
       "      <td>15.0</td>\n",
       "      <td>150000.0</td>\n",
       "    </tr>\n",
       "    <tr>\n",
       "      <th>3</th>\n",
       "      <td>36.0</td>\n",
       "      <td>Female</td>\n",
       "      <td>Bachelor's</td>\n",
       "      <td>Sales Associate</td>\n",
       "      <td>7.0</td>\n",
       "      <td>60000.0</td>\n",
       "    </tr>\n",
       "    <tr>\n",
       "      <th>4</th>\n",
       "      <td>52.0</td>\n",
       "      <td>Male</td>\n",
       "      <td>Master's</td>\n",
       "      <td>Director</td>\n",
       "      <td>20.0</td>\n",
       "      <td>200000.0</td>\n",
       "    </tr>\n",
       "  </tbody>\n",
       "</table>\n",
       "</div>"
      ],
      "text/plain": [
       "    Age  Gender Education Level          Job Title  Years of Experience  \\\n",
       "0  32.0    Male      Bachelor's  Software Engineer                  5.0   \n",
       "1  28.0  Female        Master's       Data Analyst                  3.0   \n",
       "2  45.0    Male             PhD     Senior Manager                 15.0   \n",
       "3  36.0  Female      Bachelor's    Sales Associate                  7.0   \n",
       "4  52.0    Male        Master's           Director                 20.0   \n",
       "\n",
       "     Salary  \n",
       "0   90000.0  \n",
       "1   65000.0  \n",
       "2  150000.0  \n",
       "3   60000.0  \n",
       "4  200000.0  "
      ]
     },
     "execution_count": 28,
     "metadata": {},
     "output_type": "execute_result"
    }
   ],
   "source": [
    "df.head()"
   ]
  },
  {
   "cell_type": "markdown",
   "metadata": {},
   "source": [
    "---\n",
    "---"
   ]
  },
  {
   "cell_type": "markdown",
   "metadata": {},
   "source": [
    "## \"Education Level\"'ı ekleme"
   ]
  },
  {
   "cell_type": "code",
   "execution_count": 29,
   "metadata": {},
   "outputs": [
    {
     "data": {
      "text/plain": [
       "Education Level\n",
       "Bachelor's Degree    2263\n",
       "Master's Degree      1572\n",
       "PhD                  1367\n",
       "Bachelor's            755\n",
       "High School           448\n",
       "Master's              288\n",
       "phD                     1\n",
       "Name: count, dtype: int64"
      ]
     },
     "execution_count": 29,
     "metadata": {},
     "output_type": "execute_result"
    }
   ],
   "source": [
    "df[\"Education Level\"].value_counts()"
   ]
  },
  {
   "cell_type": "markdown",
   "metadata": {},
   "source": [
    "### Education Level Kısmında aynı olanlar :\n",
    "- Bachlor's Degree = Bachelor's\n",
    "- Master's Degree = Master's\n",
    "- PhD = phD "
   ]
  },
  {
   "cell_type": "code",
   "execution_count": 30,
   "metadata": {},
   "outputs": [],
   "source": [
    "df[\"Education Level\"] = df[\"Education Level\"].replace({\n",
    "    \"Bachelor's\": \"Bachelor's Degree\",\n",
    "    \"Master's\": \"Master's Degree\",\n",
    "    \"phD\": \"PhD\"\n",
    "})"
   ]
  },
  {
   "cell_type": "code",
   "execution_count": 31,
   "metadata": {},
   "outputs": [
    {
     "data": {
      "text/plain": [
       "<Axes: xlabel='Education Level', ylabel='Salary'>"
      ]
     },
     "execution_count": 31,
     "metadata": {},
     "output_type": "execute_result"
    },
    {
     "data": {
      "image/png": "[encoded data removed]",
      "text/plain": [
       "<Figure size 640x480 with 1 Axes>"
      ]
     },
     "metadata": {},
     "output_type": "display_data"
    }
   ],
   "source": [
    "sns.boxplot(x='Education Level', y='Salary', data=df, order=[\"High School\", \"Bachelor's Degree\", \"Master's Degree\", \"PhD\"])"
   ]
  },
  {
   "cell_type": "code",
   "execution_count": 32,
   "metadata": {},
   "outputs": [
    {
     "name": "stdout",
     "output_type": "stream",
     "text": [
      "Education Level\n",
      "Bachelor's Degree    3018\n",
      "Master's Degree      1860\n",
      "PhD                  1368\n",
      "High School           448\n",
      "Name: count, dtype: int64\n"
     ]
    }
   ],
   "source": [
    "print(df[\"Education Level\"].value_counts())\n"
   ]
  },
  {
   "cell_type": "markdown",
   "metadata": {},
   "source": [
    "---"
   ]
  },
  {
   "cell_type": "markdown",
   "metadata": {},
   "source": [
    "# Label Encoder VS Mapping "
   ]
  },
  {
   "cell_type": "markdown",
   "metadata": {},
   "source": [
    "Label Encoder"
   ]
  },
  {
   "cell_type": "code",
   "execution_count": 33,
   "metadata": {},
   "outputs": [
    {
     "data": {
      "text/plain": [
       "Education Level    Education Level Encoded\n",
       "Bachelor's Degree  0                          3018\n",
       "High School        1                           448\n",
       "Master's Degree    2                          1860\n",
       "PhD                3                          1368\n",
       "Name: count, dtype: int64"
      ]
     },
     "execution_count": 33,
     "metadata": {},
     "output_type": "execute_result"
    }
   ],
   "source": [
    "from sklearn.preprocessing import LabelEncoder\n",
    "\n",
    "df['Education Level Encoded'] = LabelEncoder().fit_transform(df['Education Level'])\n",
    "\n",
    "df[['Education Level','Education Level Encoded']].groupby(\"Education Level\").value_counts()"
   ]
  },
  {
   "cell_type": "markdown",
   "metadata": {},
   "source": [
    "- Label Encoder Alfabetik yaptığından el classicco Mapping yapıcaz."
   ]
  },
  {
   "cell_type": "markdown",
   "metadata": {},
   "source": [
    "* Label Encoder"
   ]
  },
  {
   "cell_type": "code",
   "execution_count": 34,
   "metadata": {},
   "outputs": [],
   "source": [
    "numeric_cols = df.select_dtypes(include=[\"float64\", \"int32\", \"int64\"])\n",
    "numeric_cols= numeric_cols.drop(columns=[\"Salary\"])\n",
    "num_cols = numeric_cols.columns"
   ]
  },
  {
   "cell_type": "code",
   "execution_count": 35,
   "metadata": {},
   "outputs": [
    {
     "name": "stdout",
     "output_type": "stream",
     "text": [
      "Index(['Age', 'Years of Experience', 'Education Level Encoded'], dtype='object')\n",
      "                            OLS Regression Results                            \n",
      "==============================================================================\n",
      "Dep. Variable:                 Salary   R-squared:                       0.677\n",
      "Model:                            OLS   Adj. R-squared:                  0.677\n",
      "Method:                 Least Squares   F-statistic:                     3740.\n",
      "Date:                Tue, 10 Dec 2024   Prob (F-statistic):               0.00\n",
      "Time:                        18:46:38   Log-Likelihood:                -62808.\n",
      "No. Observations:                5355   AIC:                         1.256e+05\n",
      "Df Residuals:                    5351   BIC:                         1.256e+05\n",
      "Df Model:                           3                                         \n",
      "Covariance Type:            nonrobust                                         \n",
      "===========================================================================================\n",
      "                              coef    std err          t      P>|t|      [0.025      0.975]\n",
      "-------------------------------------------------------------------------------------------\n",
      "const                    1.034e+05   3785.647     27.320      0.000     9.6e+04    1.11e+05\n",
      "Age                     -1969.1683    155.159    -12.691      0.000   -2273.343   -1664.993\n",
      "Years of Experience      8716.8139    195.863     44.505      0.000    8332.842    9100.785\n",
      "Education Level Encoded  6131.4713    404.245     15.168      0.000    5338.986    6923.957\n",
      "==============================================================================\n",
      "Omnibus:                      183.526   Durbin-Watson:                   2.032\n",
      "Prob(Omnibus):                  0.000   Jarque-Bera (JB):              209.155\n",
      "Skew:                           0.434   Prob(JB):                     3.82e-46\n",
      "Kurtosis:                       3.430   Cond. No.                         330.\n",
      "==============================================================================\n",
      "\n",
      "Notes:\n",
      "[1] Standard Errors assume that the covariance matrix of the errors is correctly specified.\n",
      "\n",
      "###################################\n",
      "#OOO# İntercept is :  103423.25\n"
     ]
    }
   ],
   "source": [
    "print(num_cols)\n",
    "Y = df[\"Salary\"]\n",
    "X = df[num_cols]\n",
    "\n",
    "X_train, X_test, y_train, y_test = train_test_split(X, Y, test_size=0.20, random_state=42)\n",
    "\n",
    "model = LinearRegression()\n",
    "model.fit(X_train, y_train)\n",
    "\n",
    "X_train_sm = sm.add_constant(X_train)\n",
    "model_sm = sm.OLS(y_train, X_train_sm).fit()\n",
    "\n",
    "print(model_sm.summary())\n",
    "\n",
    "intercept = model.intercept_\n",
    "print(\"\")\n",
    "print(\"#\"*35)\n",
    "print(\"#OOO# İntercept is : \", intercept.round(2))"
   ]
  },
  {
   "cell_type": "code",
   "execution_count": 36,
   "metadata": {},
   "outputs": [
    {
     "name": "stdout",
     "output_type": "stream",
     "text": [
      "########## TRAIN ##########\n",
      "Train R^2: 0.67706\n",
      "Train MAE: 23,801.18\n",
      "Train MSE: 901,617,808.20\n",
      "\n",
      "########## TEST ##########\n",
      "Test R^2: 0.66527\n",
      "Test MAE: 23,566.43\n",
      "Test MSE: 914,309,127.87\n",
      "\n",
      "########## Overfitting Control ##########\n",
      "Linear Regression Test MSE - Train MSE Difference: 12,691,319.67\n",
      "Percentage Difference: 1.41%\n"
     ]
    }
   ],
   "source": [
    "y_train_pred = model.predict(X_train)\n",
    "y_test_pred = model.predict(X_test)\n",
    "\n",
    "train_r2 = r2_score(y_train, y_train_pred)\n",
    "train_mse = mean_squared_error(y_train, y_train_pred)\n",
    "train_mae = mean_absolute_error(y_train, y_train_pred)\n",
    "\n",
    "test_r2 = r2_score(y_test, y_test_pred)\n",
    "test_mse = mean_squared_error(y_test, y_test_pred)\n",
    "test_mae = mean_absolute_error(y_test, y_test_pred)\n",
    "\n",
    "print(\"#\"*10, \"TRAIN\", \"#\"*10)\n",
    "print(f'Train R^2: {train_r2:.5f}')\n",
    "print(f'Train MAE: {train_mae:,.2f}')\n",
    "print(f'Train MSE: {train_mse:,.2f}')\n",
    "print(\"\")\n",
    "print(\"#\"*10, \"TEST\", \"#\"*10)\n",
    "print(f'Test R^2: {test_r2:.5f}')\n",
    "print(f'Test MAE: {test_mae:,.2f}')\n",
    "print(f'Test MSE: {test_mse:,.2f}')\n",
    "print(\"\")\n",
    "print(\"#\"*10, \"Overfitting Control\", \"#\"*10)\n",
    "print(f\"Linear Regression Test MSE - Train MSE Difference: {test_mse - train_mse:,.2f}\")\n",
    "print(f\"Percentage Difference: {((test_mse - train_mse) / train_mse) * 100:.2f}%\")"
   ]
  },
  {
   "cell_type": "markdown",
   "metadata": {},
   "source": [
    "* Mapped"
   ]
  },
  {
   "cell_type": "markdown",
   "metadata": {},
   "source": [
    "Mapping (Manuel numaralandırma)"
   ]
  },
  {
   "cell_type": "markdown",
   "metadata": {},
   "source": [
    "Manuel numaralandırma, sıralı (ordinal) değişkenlerin sırasını modele doğru şekilde eklememize olanak sağlar. Ancak bu yöntem sınıflar arasındaki skalanın eşit olduğunu varsayar. Eğer sınıflar arasındaki farklar eşit değil ise (örneğin 0 ile 1 arasındaki fark, 2 ile 3 arasındaki farktan daha büyükse), yöntem beklendiği gibi doğru sonuç vermeyebilir.\n",
    "\n",
    "Not: Değişkenleri 0,1,2,3 veya 1,2,3,4 olarak numaralandırmak, modelin r^2'sini arttırmaz veya azaltmaz."
   ]
  },
  {
   "cell_type": "code",
   "execution_count": 37,
   "metadata": {},
   "outputs": [
    {
     "name": "stdout",
     "output_type": "stream",
     "text": [
      "Education Level    Education Level Mapped\n",
      "Bachelor's Degree  1                         3018\n",
      "Master's Degree    2                         1860\n",
      "PhD                3                         1368\n",
      "High School        0                          448\n",
      "Name: count, dtype: int64\n"
     ]
    }
   ],
   "source": [
    "education_order = {\n",
    "    \"High School\": 0,\n",
    "    \"Bachelor's Degree\": 1,\n",
    "    \"Master's Degree\": 2,\n",
    "    \"PhD\": 3\n",
    "}\n",
    "\n",
    "df['Education Level Mapped'] = df['Education Level'].map(education_order)\n",
    "print(df[['Education Level', 'Education Level Mapped']].value_counts())"
   ]
  },
  {
   "cell_type": "code",
   "execution_count": 38,
   "metadata": {},
   "outputs": [],
   "source": [
    "numeric_cols = df.select_dtypes(include=[\"float64\", \"int32\", \"int64\"])\n",
    "numeric_cols= numeric_cols.drop(columns=[\"Salary\", \"Education Level Encoded\"])\n",
    "num_cols = numeric_cols.columns"
   ]
  },
  {
   "cell_type": "code",
   "execution_count": 39,
   "metadata": {},
   "outputs": [
    {
     "name": "stdout",
     "output_type": "stream",
     "text": [
      "Index(['Age', 'Years of Experience', 'Education Level Mapped'], dtype='object')\n",
      "                            OLS Regression Results                            \n",
      "==============================================================================\n",
      "Dep. Variable:                 Salary   R-squared:                       0.706\n",
      "Model:                            OLS   Adj. R-squared:                  0.706\n",
      "Method:                 Least Squares   F-statistic:                     4281.\n",
      "Date:                Tue, 10 Dec 2024   Prob (F-statistic):               0.00\n",
      "Time:                        18:46:38   Log-Likelihood:                -62557.\n",
      "No. Observations:                5355   AIC:                         1.251e+05\n",
      "Df Residuals:                    5351   BIC:                         1.251e+05\n",
      "Df Model:                           3                                         \n",
      "Covariance Type:            nonrobust                                         \n",
      "==========================================================================================\n",
      "                             coef    std err          t      P>|t|      [0.025      0.975]\n",
      "------------------------------------------------------------------------------------------\n",
      "const                   9.412e+04   3610.772     26.066      0.000     8.7e+04    1.01e+05\n",
      "Age                    -2085.2711    147.846    -14.104      0.000   -2375.109   -1795.434\n",
      "Years of Experience     8146.5459    188.487     43.221      0.000    7777.034    8516.058\n",
      "Education Level Mapped  1.568e+04    562.761     27.871      0.000    1.46e+04    1.68e+04\n",
      "==============================================================================\n",
      "Omnibus:                      333.338   Durbin-Watson:                   2.023\n",
      "Prob(Omnibus):                  0.000   Jarque-Bera (JB):              414.093\n",
      "Skew:                           0.604   Prob(JB):                     1.20e-90\n",
      "Kurtosis:                       3.630   Cond. No.                         330.\n",
      "==============================================================================\n",
      "\n",
      "Notes:\n",
      "[1] Standard Errors assume that the covariance matrix of the errors is correctly specified.\n",
      "\n",
      "###################################\n",
      "#OOO# İntercept is :  94119.5\n"
     ]
    }
   ],
   "source": [
    "print(num_cols)\n",
    "Y = df[\"Salary\"]\n",
    "X = df[num_cols]\n",
    "\n",
    "X_train, X_test, y_train, y_test = train_test_split(X, Y, test_size=0.20, random_state=42)\n",
    "\n",
    "model = LinearRegression()\n",
    "model.fit(X_train, y_train)\n",
    "\n",
    "X_train_sm = sm.add_constant(X_train)\n",
    "model_sm = sm.OLS(y_train, X_train_sm).fit()\n",
    "\n",
    "print(model_sm.summary())\n",
    "\n",
    "intercept = model.intercept_\n",
    "print(\"\")\n",
    "print(\"#\"*35)\n",
    "print(\"#OOO# İntercept is : \", intercept.round(2))"
   ]
  },
  {
   "cell_type": "code",
   "execution_count": 40,
   "metadata": {},
   "outputs": [
    {
     "name": "stdout",
     "output_type": "stream",
     "text": [
      "########## TRAIN ##########\n",
      "Train R^2: 0.70587\n",
      "Train MAE: 22,396.76\n",
      "Train MSE: 821,173,174.85\n",
      "\n",
      "########## TEST ##########\n",
      "Test R^2: 0.69485\n",
      "Test MAE: 22,060.59\n",
      "Test MSE: 833,491,495.76\n",
      "\n",
      "########## Overfitting Control ##########\n",
      "Linear Regression Test MSE - Train MSE Difference: 12,318,320.91\n",
      "Percentage Difference: 1.50%\n"
     ]
    }
   ],
   "source": [
    "y_train_pred = model.predict(X_train)\n",
    "y_test_pred = model.predict(X_test)\n",
    "\n",
    "train_r2 = r2_score(y_train, y_train_pred)\n",
    "train_mse = mean_squared_error(y_train, y_train_pred)\n",
    "train_mae = mean_absolute_error(y_train, y_train_pred)\n",
    "\n",
    "test_r2 = r2_score(y_test, y_test_pred)\n",
    "test_mse = mean_squared_error(y_test, y_test_pred)\n",
    "test_mae = mean_absolute_error(y_test, y_test_pred)\n",
    "\n",
    "print(\"#\"*10, \"TRAIN\", \"#\"*10)\n",
    "print(f'Train R^2: {train_r2:.5f}')\n",
    "print(f'Train MAE: {train_mae:,.2f}')\n",
    "print(f'Train MSE: {train_mse:,.2f}')\n",
    "print(\"\")\n",
    "print(\"#\"*10, \"TEST\", \"#\"*10)\n",
    "print(f'Test R^2: {test_r2:.5f}')\n",
    "print(f'Test MAE: {test_mae:,.2f}')\n",
    "print(f'Test MSE: {test_mse:,.2f}')\n",
    "print(\"\")\n",
    "print(\"#\"*10, \"Overfitting Control\", \"#\"*10)\n",
    "print(f\"Linear Regression Test MSE - Train MSE Difference: {test_mse - train_mse:,.2f}\")\n",
    "print(f\"Percentage Difference: {((test_mse - train_mse) / train_mse) * 100:.2f}%\")"
   ]
  },
  {
   "cell_type": "markdown",
   "metadata": {},
   "source": [
    "### \"Education Level Mapped\" Kazandı.\n",
    "Çünkü Education Level ordinal bir değişkendi. Fakat label encode bu değişkenlerin içeriğini alfabetik olarak 0 1 2 3... şeklinde numaralandırıyordu. Biz mapping ile ordinal düzende numaralandırdığımız için Lineer Modele daha uygun bir bilgi sağlamış oldu. "
   ]
  },
  {
   "cell_type": "markdown",
   "metadata": {},
   "source": [
    "---\n",
    "---"
   ]
  },
  {
   "cell_type": "markdown",
   "metadata": {},
   "source": [
    "## One Hot Encoding drop_first = True vs False"
   ]
  },
  {
   "cell_type": "code",
   "execution_count": 41,
   "metadata": {},
   "outputs": [
    {
     "data": {
      "text/plain": [
       "Index(['Age', 'Gender', 'Education Level', 'Job Title', 'Years of Experience',\n",
       "       'Salary'],\n",
       "      dtype='object')"
      ]
     },
     "execution_count": 41,
     "metadata": {},
     "output_type": "execute_result"
    }
   ],
   "source": [
    "df1 = df.drop(columns=['Education Level Encoded', 'Education Level Mapped'])\n",
    "df1.columns"
   ]
  },
  {
   "cell_type": "code",
   "execution_count": 42,
   "metadata": {},
   "outputs": [
    {
     "data": {
      "text/html": [
       "<div>\n",
       "<style scoped>\n",
       "    .dataframe tbody tr th:only-of-type {\n",
       "        vertical-align: middle;\n",
       "    }\n",
       "\n",
       "    .dataframe tbody tr th {\n",
       "        vertical-align: top;\n",
       "    }\n",
       "\n",
       "    .dataframe thead th {\n",
       "        text-align: right;\n",
       "    }\n",
       "</style>\n",
       "<table border=\"1\" class=\"dataframe\">\n",
       "  <thead>\n",
       "    <tr style=\"text-align: right;\">\n",
       "      <th></th>\n",
       "      <th>Age</th>\n",
       "      <th>Gender</th>\n",
       "      <th>Job Title</th>\n",
       "      <th>Years of Experience</th>\n",
       "      <th>Salary</th>\n",
       "      <th>Education_Bachelor's Degree</th>\n",
       "      <th>Education_High School</th>\n",
       "      <th>Education_Master's Degree</th>\n",
       "      <th>Education_PhD</th>\n",
       "    </tr>\n",
       "  </thead>\n",
       "  <tbody>\n",
       "    <tr>\n",
       "      <th>0</th>\n",
       "      <td>32.0</td>\n",
       "      <td>Male</td>\n",
       "      <td>Software Engineer</td>\n",
       "      <td>5.0</td>\n",
       "      <td>90000.0</td>\n",
       "      <td>1</td>\n",
       "      <td>0</td>\n",
       "      <td>0</td>\n",
       "      <td>0</td>\n",
       "    </tr>\n",
       "    <tr>\n",
       "      <th>1</th>\n",
       "      <td>28.0</td>\n",
       "      <td>Female</td>\n",
       "      <td>Data Analyst</td>\n",
       "      <td>3.0</td>\n",
       "      <td>65000.0</td>\n",
       "      <td>0</td>\n",
       "      <td>0</td>\n",
       "      <td>1</td>\n",
       "      <td>0</td>\n",
       "    </tr>\n",
       "    <tr>\n",
       "      <th>2</th>\n",
       "      <td>45.0</td>\n",
       "      <td>Male</td>\n",
       "      <td>Senior Manager</td>\n",
       "      <td>15.0</td>\n",
       "      <td>150000.0</td>\n",
       "      <td>0</td>\n",
       "      <td>0</td>\n",
       "      <td>0</td>\n",
       "      <td>1</td>\n",
       "    </tr>\n",
       "    <tr>\n",
       "      <th>3</th>\n",
       "      <td>36.0</td>\n",
       "      <td>Female</td>\n",
       "      <td>Sales Associate</td>\n",
       "      <td>7.0</td>\n",
       "      <td>60000.0</td>\n",
       "      <td>1</td>\n",
       "      <td>0</td>\n",
       "      <td>0</td>\n",
       "      <td>0</td>\n",
       "    </tr>\n",
       "    <tr>\n",
       "      <th>4</th>\n",
       "      <td>52.0</td>\n",
       "      <td>Male</td>\n",
       "      <td>Director</td>\n",
       "      <td>20.0</td>\n",
       "      <td>200000.0</td>\n",
       "      <td>0</td>\n",
       "      <td>0</td>\n",
       "      <td>1</td>\n",
       "      <td>0</td>\n",
       "    </tr>\n",
       "  </tbody>\n",
       "</table>\n",
       "</div>"
      ],
      "text/plain": [
       "    Age  Gender          Job Title  Years of Experience    Salary  \\\n",
       "0  32.0    Male  Software Engineer                  5.0   90000.0   \n",
       "1  28.0  Female       Data Analyst                  3.0   65000.0   \n",
       "2  45.0    Male     Senior Manager                 15.0  150000.0   \n",
       "3  36.0  Female    Sales Associate                  7.0   60000.0   \n",
       "4  52.0    Male           Director                 20.0  200000.0   \n",
       "\n",
       "   Education_Bachelor's Degree  Education_High School  \\\n",
       "0                            1                      0   \n",
       "1                            0                      0   \n",
       "2                            0                      0   \n",
       "3                            1                      0   \n",
       "4                            0                      0   \n",
       "\n",
       "   Education_Master's Degree  Education_PhD  \n",
       "0                          0              0  \n",
       "1                          1              0  \n",
       "2                          0              1  \n",
       "3                          0              0  \n",
       "4                          1              0  "
      ]
     },
     "execution_count": 42,
     "metadata": {},
     "output_type": "execute_result"
    }
   ],
   "source": [
    "from sklearn.preprocessing import OneHotEncoder\n",
    "\n",
    "\n",
    "df_encoded = pd.get_dummies(df1, columns=[\"Education Level\"], prefix=\"Education\", drop_first=False, dtype=int)\n",
    "df_encoded_dropped = pd.get_dummies(df1, columns=[\"Education Level\"], prefix=\"Education\", drop_first=True, dtype=int)\n",
    "\n",
    "\n",
    "df_encoded.head()"
   ]
  },
  {
   "cell_type": "code",
   "execution_count": 43,
   "metadata": {},
   "outputs": [
    {
     "data": {
      "text/html": [
       "<div>\n",
       "<style scoped>\n",
       "    .dataframe tbody tr th:only-of-type {\n",
       "        vertical-align: middle;\n",
       "    }\n",
       "\n",
       "    .dataframe tbody tr th {\n",
       "        vertical-align: top;\n",
       "    }\n",
       "\n",
       "    .dataframe thead th {\n",
       "        text-align: right;\n",
       "    }\n",
       "</style>\n",
       "<table border=\"1\" class=\"dataframe\">\n",
       "  <thead>\n",
       "    <tr style=\"text-align: right;\">\n",
       "      <th></th>\n",
       "      <th>Age</th>\n",
       "      <th>Gender</th>\n",
       "      <th>Job Title</th>\n",
       "      <th>Years of Experience</th>\n",
       "      <th>Salary</th>\n",
       "      <th>Education_High School</th>\n",
       "      <th>Education_Master's Degree</th>\n",
       "      <th>Education_PhD</th>\n",
       "    </tr>\n",
       "  </thead>\n",
       "  <tbody>\n",
       "    <tr>\n",
       "      <th>0</th>\n",
       "      <td>32.0</td>\n",
       "      <td>Male</td>\n",
       "      <td>Software Engineer</td>\n",
       "      <td>5.0</td>\n",
       "      <td>90000.0</td>\n",
       "      <td>0</td>\n",
       "      <td>0</td>\n",
       "      <td>0</td>\n",
       "    </tr>\n",
       "    <tr>\n",
       "      <th>1</th>\n",
       "      <td>28.0</td>\n",
       "      <td>Female</td>\n",
       "      <td>Data Analyst</td>\n",
       "      <td>3.0</td>\n",
       "      <td>65000.0</td>\n",
       "      <td>0</td>\n",
       "      <td>1</td>\n",
       "      <td>0</td>\n",
       "    </tr>\n",
       "    <tr>\n",
       "      <th>2</th>\n",
       "      <td>45.0</td>\n",
       "      <td>Male</td>\n",
       "      <td>Senior Manager</td>\n",
       "      <td>15.0</td>\n",
       "      <td>150000.0</td>\n",
       "      <td>0</td>\n",
       "      <td>0</td>\n",
       "      <td>1</td>\n",
       "    </tr>\n",
       "    <tr>\n",
       "      <th>3</th>\n",
       "      <td>36.0</td>\n",
       "      <td>Female</td>\n",
       "      <td>Sales Associate</td>\n",
       "      <td>7.0</td>\n",
       "      <td>60000.0</td>\n",
       "      <td>0</td>\n",
       "      <td>0</td>\n",
       "      <td>0</td>\n",
       "    </tr>\n",
       "    <tr>\n",
       "      <th>4</th>\n",
       "      <td>52.0</td>\n",
       "      <td>Male</td>\n",
       "      <td>Director</td>\n",
       "      <td>20.0</td>\n",
       "      <td>200000.0</td>\n",
       "      <td>0</td>\n",
       "      <td>1</td>\n",
       "      <td>0</td>\n",
       "    </tr>\n",
       "  </tbody>\n",
       "</table>\n",
       "</div>"
      ],
      "text/plain": [
       "    Age  Gender          Job Title  Years of Experience    Salary  \\\n",
       "0  32.0    Male  Software Engineer                  5.0   90000.0   \n",
       "1  28.0  Female       Data Analyst                  3.0   65000.0   \n",
       "2  45.0    Male     Senior Manager                 15.0  150000.0   \n",
       "3  36.0  Female    Sales Associate                  7.0   60000.0   \n",
       "4  52.0    Male           Director                 20.0  200000.0   \n",
       "\n",
       "   Education_High School  Education_Master's Degree  Education_PhD  \n",
       "0                      0                          0              0  \n",
       "1                      0                          1              0  \n",
       "2                      0                          0              1  \n",
       "3                      0                          0              0  \n",
       "4                      0                          1              0  "
      ]
     },
     "execution_count": 43,
     "metadata": {},
     "output_type": "execute_result"
    }
   ],
   "source": [
    "df_encoded_dropped.head()"
   ]
  },
  {
   "cell_type": "code",
   "execution_count": 44,
   "metadata": {},
   "outputs": [
    {
     "data": {
      "text/plain": [
       "Index(['Age', 'Years of Experience', 'Education_Bachelor's Degree',\n",
       "       'Education_High School', 'Education_Master's Degree', 'Education_PhD'],\n",
       "      dtype='object')"
      ]
     },
     "execution_count": 44,
     "metadata": {},
     "output_type": "execute_result"
    }
   ],
   "source": [
    "num_cols = df_encoded.select_dtypes(include=[\"int32\", \"float64\"]).columns\n",
    "num_cols = num_cols.drop(\"Salary\")\n",
    "num_cols"
   ]
  },
  {
   "cell_type": "markdown",
   "metadata": {},
   "source": [
    "* Droplanmamış model"
   ]
  },
  {
   "cell_type": "code",
   "execution_count": 45,
   "metadata": {},
   "outputs": [
    {
     "name": "stdout",
     "output_type": "stream",
     "text": [
      "Index(['Age', 'Years of Experience', 'Education_Bachelor's Degree',\n",
      "       'Education_High School', 'Education_Master's Degree', 'Education_PhD'],\n",
      "      dtype='object')\n",
      "Kullanılan sütun sayısı :6 \n",
      "                            OLS Regression Results                            \n",
      "==============================================================================\n",
      "Dep. Variable:                 Salary   R-squared:                       0.716\n",
      "Model:                            OLS   Adj. R-squared:                  0.715\n",
      "Method:                 Least Squares   F-statistic:                     2691.\n",
      "Date:                Tue, 10 Dec 2024   Prob (F-statistic):               0.00\n",
      "Time:                        18:46:38   Log-Likelihood:                -62468.\n",
      "No. Observations:                5355   AIC:                         1.249e+05\n",
      "Df Residuals:                    5349   BIC:                         1.250e+05\n",
      "Df Model:                           5                                         \n",
      "Covariance Type:            nonrobust                                         \n",
      "===============================================================================================\n",
      "                                  coef    std err          t      P>|t|      [0.025      0.975]\n",
      "-----------------------------------------------------------------------------------------------\n",
      "const                        8.711e+04   2943.103     29.597      0.000    8.13e+04    9.29e+04\n",
      "Age                         -1900.3609    146.774    -12.948      0.000   -2188.098   -1612.624\n",
      "Years of Experience          7969.0472    186.580     42.711      0.000    7603.274    8334.820\n",
      "Education_Bachelor's Degree  2.181e+04    884.963     24.648      0.000    2.01e+04    2.35e+04\n",
      "Education_High School       -1.441e+04   1468.117     -9.814      0.000   -1.73e+04   -1.15e+04\n",
      "Education_Master's Degree    3.351e+04    989.240     33.874      0.000    3.16e+04    3.54e+04\n",
      "Education_PhD                4.619e+04   1290.486     35.795      0.000    4.37e+04    4.87e+04\n",
      "==============================================================================\n",
      "Omnibus:                      255.571   Durbin-Watson:                   2.014\n",
      "Prob(Omnibus):                  0.000   Jarque-Bera (JB):              299.210\n",
      "Skew:                           0.530   Prob(JB):                     1.07e-65\n",
      "Kurtosis:                       3.465   Cond. No.                     4.95e+16\n",
      "==============================================================================\n",
      "\n",
      "Notes:\n",
      "[1] Standard Errors assume that the covariance matrix of the errors is correctly specified.\n",
      "[2] The smallest eigenvalue is 2.78e-27. This might indicate that there are\n",
      "strong multicollinearity problems or that the design matrix is singular.\n",
      "\n",
      "###################################\n",
      "#OOO# İntercept is :  108884.22\n"
     ]
    }
   ],
   "source": [
    "print(num_cols)\n",
    "print(f\"Kullanılan sütun sayısı :{len(num_cols)} \")\n",
    "Y = df_encoded[\"Salary\"]\n",
    "X = df_encoded[num_cols]\n",
    "\n",
    "X_train, X_test, y_train, y_test = train_test_split(X, Y, test_size=0.20, random_state=42)\n",
    "\n",
    "model = LinearRegression()\n",
    "model.fit(X_train, y_train)\n",
    "\n",
    "X_train_sm = sm.add_constant(X_train)\n",
    "model_sm = sm.OLS(y_train, X_train_sm).fit()\n",
    "\n",
    "print(model_sm.summary())\n",
    "\n",
    "intercept = model.intercept_\n",
    "print(\"\")\n",
    "print(\"#\"*35)\n",
    "print(\"#OOO# İntercept is : \", intercept.round(2))"
   ]
  },
  {
   "cell_type": "code",
   "execution_count": 46,
   "metadata": {},
   "outputs": [
    {
     "name": "stdout",
     "output_type": "stream",
     "text": [
      "########## TRAIN ##########\n",
      "Train R^2: 0.71552\n",
      "Train MAE: 22,113.21\n",
      "Train MSE: 794,242,157.68\n",
      "\n",
      "########## TEST ##########\n",
      "Test R^2: 0.70970\n",
      "Test MAE: 21,588.79\n",
      "Test MSE: 792,946,639.20\n",
      "\n",
      "########## Overfitting Control ##########\n",
      "Linear Regression Test MSE - Train MSE Difference: -1,295,518.48\n",
      "Percentage Difference: -0.16%\n"
     ]
    }
   ],
   "source": [
    "y_train_pred = model.predict(X_train)\n",
    "y_test_pred = model.predict(X_test)\n",
    "\n",
    "train_r2 = r2_score(y_train, y_train_pred)\n",
    "train_mse = mean_squared_error(y_train, y_train_pred)\n",
    "train_mae = mean_absolute_error(y_train, y_train_pred)\n",
    "\n",
    "test_r2 = r2_score(y_test, y_test_pred)\n",
    "test_mse = mean_squared_error(y_test, y_test_pred)\n",
    "test_mae = mean_absolute_error(y_test, y_test_pred)\n",
    "\n",
    "print(\"#\"*10, \"TRAIN\", \"#\"*10)\n",
    "print(f'Train R^2: {train_r2:.5f}')\n",
    "print(f'Train MAE: {train_mae:,.2f}')\n",
    "print(f'Train MSE: {train_mse:,.2f}')\n",
    "print(\"\")\n",
    "print(\"#\"*10, \"TEST\", \"#\"*10)\n",
    "print(f'Test R^2: {test_r2:.5f}')\n",
    "print(f'Test MAE: {test_mae:,.2f}')\n",
    "print(f'Test MSE: {test_mse:,.2f}')\n",
    "print(\"\")\n",
    "print(\"#\"*10, \"Overfitting Control\", \"#\"*10)\n",
    "print(f\"Linear Regression Test MSE - Train MSE Difference: {test_mse - train_mse:,.2f}\")\n",
    "print(f\"Percentage Difference: {((test_mse - train_mse) / train_mse) * 100:.2f}%\")"
   ]
  },
  {
   "cell_type": "markdown",
   "metadata": {},
   "source": [
    "* Droplanmış Model"
   ]
  },
  {
   "cell_type": "code",
   "execution_count": 47,
   "metadata": {},
   "outputs": [
    {
     "data": {
      "text/plain": [
       "Index(['Age', 'Years of Experience', 'Education_High School',\n",
       "       'Education_Master's Degree', 'Education_PhD'],\n",
       "      dtype='object')"
      ]
     },
     "execution_count": 47,
     "metadata": {},
     "output_type": "execute_result"
    }
   ],
   "source": [
    "num_cols = df_encoded_dropped.select_dtypes(include=[\"int32\", \"float64\"]).columns\n",
    "num_cols = num_cols.drop(\"Salary\")\n",
    "num_cols"
   ]
  },
  {
   "cell_type": "code",
   "execution_count": 48,
   "metadata": {},
   "outputs": [
    {
     "name": "stdout",
     "output_type": "stream",
     "text": [
      "Index(['Age', 'Years of Experience', 'Education_High School',\n",
      "       'Education_Master's Degree', 'Education_PhD'],\n",
      "      dtype='object')\n",
      "Kullanılan sütun sayısı :5 \n",
      "                            OLS Regression Results                            \n",
      "==============================================================================\n",
      "Dep. Variable:                 Salary   R-squared:                       0.716\n",
      "Model:                            OLS   Adj. R-squared:                  0.715\n",
      "Method:                 Least Squares   F-statistic:                     2691.\n",
      "Date:                Tue, 10 Dec 2024   Prob (F-statistic):               0.00\n",
      "Time:                        18:46:38   Log-Likelihood:                -62468.\n",
      "No. Observations:                5355   AIC:                         1.249e+05\n",
      "Df Residuals:                    5349   BIC:                         1.250e+05\n",
      "Df Model:                           5                                         \n",
      "Covariance Type:            nonrobust                                         \n",
      "=============================================================================================\n",
      "                                coef    std err          t      P>|t|      [0.025      0.975]\n",
      "---------------------------------------------------------------------------------------------\n",
      "const                      1.089e+05   3602.146     30.237      0.000    1.02e+05    1.16e+05\n",
      "Age                       -1900.3609    146.774    -12.948      0.000   -2188.098   -1612.624\n",
      "Years of Experience        7969.0472    186.580     42.711      0.000    7603.274    8334.820\n",
      "Education_High School     -3.622e+04   1626.163    -22.273      0.000   -3.94e+04    -3.3e+04\n",
      "Education_Master's Degree   1.17e+04    986.869     11.853      0.000    9762.868    1.36e+04\n",
      "Education_PhD              2.438e+04   1251.544     19.480      0.000    2.19e+04    2.68e+04\n",
      "==============================================================================\n",
      "Omnibus:                      255.571   Durbin-Watson:                   2.014\n",
      "Prob(Omnibus):                  0.000   Jarque-Bera (JB):              299.210\n",
      "Skew:                           0.530   Prob(JB):                     1.07e-65\n",
      "Kurtosis:                       3.465   Cond. No.                         334.\n",
      "==============================================================================\n",
      "\n",
      "Notes:\n",
      "[1] Standard Errors assume that the covariance matrix of the errors is correctly specified.\n",
      "\n",
      "###################################\n",
      "#OOO# İntercept is :  108919.73\n"
     ]
    }
   ],
   "source": [
    "print(num_cols)\n",
    "print(f\"Kullanılan sütun sayısı :{len(num_cols)} \")\n",
    "Y = df_encoded_dropped[\"Salary\"]\n",
    "X = df_encoded_dropped[num_cols]\n",
    "\n",
    "X_train, X_test, y_train, y_test = train_test_split(X, Y, test_size=0.20, random_state=42)\n",
    "\n",
    "model = LinearRegression()\n",
    "model.fit(X_train, y_train)\n",
    "\n",
    "X_train_sm = sm.add_constant(X_train)\n",
    "model_sm = sm.OLS(y_train, X_train_sm).fit()\n",
    "\n",
    "print(model_sm.summary())\n",
    "\n",
    "intercept = model.intercept_\n",
    "print(\"\")\n",
    "print(\"#\"*35)\n",
    "print(\"#OOO# İntercept is : \", intercept.round(2))"
   ]
  },
  {
   "cell_type": "code",
   "execution_count": 49,
   "metadata": {},
   "outputs": [
    {
     "name": "stdout",
     "output_type": "stream",
     "text": [
      "########## TRAIN ##########\n",
      "Train R^2: 0.71552\n",
      "Train MAE: 22,113.21\n",
      "Train MSE: 794,242,157.68\n",
      "\n",
      "########## TEST ##########\n",
      "Test R^2: 0.70970\n",
      "Test MAE: 21,588.79\n",
      "Test MSE: 792,946,639.20\n",
      "\n",
      "########## Overfitting Control ##########\n",
      "Linear Regression Test MSE - Train MSE Difference: -1,295,518.48\n",
      "Percentage Difference: -0.16%\n"
     ]
    }
   ],
   "source": [
    "y_train_pred = model.predict(X_train)\n",
    "y_test_pred = model.predict(X_test)\n",
    "\n",
    "train_r2 = r2_score(y_train, y_train_pred)\n",
    "train_mse = mean_squared_error(y_train, y_train_pred)\n",
    "train_mae = mean_absolute_error(y_train, y_train_pred)\n",
    "\n",
    "test_r2 = r2_score(y_test, y_test_pred)\n",
    "test_mse = mean_squared_error(y_test, y_test_pred)\n",
    "test_mae = mean_absolute_error(y_test, y_test_pred)\n",
    "\n",
    "print(\"#\"*10, \"TRAIN\", \"#\"*10)\n",
    "print(f'Train R^2: {train_r2:.5f}')\n",
    "print(f'Train MAE: {train_mae:,.2f}')\n",
    "print(f'Train MSE: {train_mse:,.2f}')\n",
    "print(\"\")\n",
    "print(\"#\"*10, \"TEST\", \"#\"*10)\n",
    "print(f'Test R^2: {test_r2:.5f}')\n",
    "print(f'Test MAE: {test_mae:,.2f}')\n",
    "print(f'Test MSE: {test_mse:,.2f}')\n",
    "print(\"\")\n",
    "print(\"#\"*10, \"Overfitting Control\", \"#\"*10)\n",
    "print(f\"Linear Regression Test MSE - Train MSE Difference: {test_mse - train_mse:,.2f}\")\n",
    "print(f\"Percentage Difference: {((test_mse - train_mse) / train_mse) * 100:.2f}%\")"
   ]
  },
  {
   "cell_type": "markdown",
   "metadata": {},
   "source": [
    "Bu kısımda'da df_encoded_dropped modelini kullanmamız daha uygun. Droplanmış modeli seçme sebebimiz, droplanmamış modelin istatistiksel summary kısmındada belirtildiği gibi, model yüksek çoklu doğrusallık problemi içermiyor.    "
   ]
  },
  {
   "cell_type": "markdown",
   "metadata": {},
   "source": [
    "One Hot Encoder Dropped'ın r^2'si daha yüksek cıktı "
   ]
  },
  {
   "cell_type": "markdown",
   "metadata": {},
   "source": [
    "---\n",
    "---\n",
    "# Gender Ekleme "
   ]
  },
  {
   "cell_type": "code",
   "execution_count": 50,
   "metadata": {},
   "outputs": [
    {
     "data": {
      "text/plain": [
       "Gender\n",
       "Male      3669\n",
       "Female    3011\n",
       "Other       14\n",
       "Name: count, dtype: int64"
      ]
     },
     "execution_count": 50,
     "metadata": {},
     "output_type": "execute_result"
    }
   ],
   "source": [
    "df_encoded_dropped[\"Gender\"].value_counts()"
   ]
  },
  {
   "cell_type": "markdown",
   "metadata": {},
   "source": [
    "multicollinearity yüzünden other sınıfını dropluyorum"
   ]
  },
  {
   "cell_type": "code",
   "execution_count": 51,
   "metadata": {},
   "outputs": [
    {
     "data": {
      "text/plain": [
       "Gender\n",
       "Male      3669\n",
       "Female    3011\n",
       "Name: count, dtype: int64"
      ]
     },
     "execution_count": 51,
     "metadata": {},
     "output_type": "execute_result"
    }
   ],
   "source": [
    "df_encoded_dropped = df_encoded_dropped[df_encoded_dropped[\"Gender\"] != \"Other\"]\n",
    "df_encoded_dropped[\"Gender\"].value_counts()"
   ]
  },
  {
   "cell_type": "code",
   "execution_count": 52,
   "metadata": {},
   "outputs": [
    {
     "data": {
      "text/html": [
       "<div>\n",
       "<style scoped>\n",
       "    .dataframe tbody tr th:only-of-type {\n",
       "        vertical-align: middle;\n",
       "    }\n",
       "\n",
       "    .dataframe tbody tr th {\n",
       "        vertical-align: top;\n",
       "    }\n",
       "\n",
       "    .dataframe thead th {\n",
       "        text-align: right;\n",
       "    }\n",
       "</style>\n",
       "<table border=\"1\" class=\"dataframe\">\n",
       "  <thead>\n",
       "    <tr style=\"text-align: right;\">\n",
       "      <th></th>\n",
       "      <th>Age</th>\n",
       "      <th>Job Title</th>\n",
       "      <th>Years of Experience</th>\n",
       "      <th>Salary</th>\n",
       "      <th>Education_High School</th>\n",
       "      <th>Education_Master's Degree</th>\n",
       "      <th>Education_PhD</th>\n",
       "      <th>Gender_Male</th>\n",
       "    </tr>\n",
       "  </thead>\n",
       "  <tbody>\n",
       "    <tr>\n",
       "      <th>0</th>\n",
       "      <td>32.0</td>\n",
       "      <td>Software Engineer</td>\n",
       "      <td>5.0</td>\n",
       "      <td>90000.0</td>\n",
       "      <td>0</td>\n",
       "      <td>0</td>\n",
       "      <td>0</td>\n",
       "      <td>1</td>\n",
       "    </tr>\n",
       "    <tr>\n",
       "      <th>1</th>\n",
       "      <td>28.0</td>\n",
       "      <td>Data Analyst</td>\n",
       "      <td>3.0</td>\n",
       "      <td>65000.0</td>\n",
       "      <td>0</td>\n",
       "      <td>1</td>\n",
       "      <td>0</td>\n",
       "      <td>0</td>\n",
       "    </tr>\n",
       "    <tr>\n",
       "      <th>2</th>\n",
       "      <td>45.0</td>\n",
       "      <td>Senior Manager</td>\n",
       "      <td>15.0</td>\n",
       "      <td>150000.0</td>\n",
       "      <td>0</td>\n",
       "      <td>0</td>\n",
       "      <td>1</td>\n",
       "      <td>1</td>\n",
       "    </tr>\n",
       "    <tr>\n",
       "      <th>3</th>\n",
       "      <td>36.0</td>\n",
       "      <td>Sales Associate</td>\n",
       "      <td>7.0</td>\n",
       "      <td>60000.0</td>\n",
       "      <td>0</td>\n",
       "      <td>0</td>\n",
       "      <td>0</td>\n",
       "      <td>0</td>\n",
       "    </tr>\n",
       "    <tr>\n",
       "      <th>4</th>\n",
       "      <td>52.0</td>\n",
       "      <td>Director</td>\n",
       "      <td>20.0</td>\n",
       "      <td>200000.0</td>\n",
       "      <td>0</td>\n",
       "      <td>1</td>\n",
       "      <td>0</td>\n",
       "      <td>1</td>\n",
       "    </tr>\n",
       "  </tbody>\n",
       "</table>\n",
       "</div>"
      ],
      "text/plain": [
       "    Age          Job Title  Years of Experience    Salary  \\\n",
       "0  32.0  Software Engineer                  5.0   90000.0   \n",
       "1  28.0       Data Analyst                  3.0   65000.0   \n",
       "2  45.0     Senior Manager                 15.0  150000.0   \n",
       "3  36.0    Sales Associate                  7.0   60000.0   \n",
       "4  52.0           Director                 20.0  200000.0   \n",
       "\n",
       "   Education_High School  Education_Master's Degree  Education_PhD  \\\n",
       "0                      0                          0              0   \n",
       "1                      0                          1              0   \n",
       "2                      0                          0              1   \n",
       "3                      0                          0              0   \n",
       "4                      0                          1              0   \n",
       "\n",
       "   Gender_Male  \n",
       "0            1  \n",
       "1            0  \n",
       "2            1  \n",
       "3            0  \n",
       "4            1  "
      ]
     },
     "execution_count": 52,
     "metadata": {},
     "output_type": "execute_result"
    }
   ],
   "source": [
    "df_encoded_dropped = pd.get_dummies(df_encoded_dropped, columns=['Gender'], dtype=int, drop_first=True)\n",
    "df_encoded_dropped.head()\n"
   ]
  },
  {
   "cell_type": "code",
   "execution_count": 53,
   "metadata": {},
   "outputs": [
    {
     "data": {
      "text/plain": [
       "Index(['Age', 'Years of Experience', 'Education_High School',\n",
       "       'Education_Master's Degree', 'Education_PhD', 'Gender_Male'],\n",
       "      dtype='object')"
      ]
     },
     "execution_count": 53,
     "metadata": {},
     "output_type": "execute_result"
    }
   ],
   "source": [
    "num_cols = df_encoded_dropped.select_dtypes(include=[\"int32\", \"float64\"]).columns\n",
    "num_cols = num_cols.drop(\"Salary\")\n",
    "num_cols"
   ]
  },
  {
   "cell_type": "code",
   "execution_count": 54,
   "metadata": {},
   "outputs": [
    {
     "name": "stdout",
     "output_type": "stream",
     "text": [
      "Index(['Age', 'Years of Experience', 'Education_High School',\n",
      "       'Education_Master's Degree', 'Education_PhD', 'Gender_Male'],\n",
      "      dtype='object')\n",
      "Kullanılan sütun sayısı :6 \n",
      "                            OLS Regression Results                            \n",
      "==============================================================================\n",
      "Dep. Variable:                 Salary   R-squared:                       0.717\n",
      "Model:                            OLS   Adj. R-squared:                  0.717\n",
      "Method:                 Least Squares   F-statistic:                     2254.\n",
      "Date:                Tue, 10 Dec 2024   Prob (F-statistic):               0.00\n",
      "Time:                        18:46:38   Log-Likelihood:                -62316.\n",
      "No. Observations:                5344   AIC:                         1.246e+05\n",
      "Df Residuals:                    5337   BIC:                         1.247e+05\n",
      "Df Model:                           6                                         \n",
      "Covariance Type:            nonrobust                                         \n",
      "=============================================================================================\n",
      "                                coef    std err          t      P>|t|      [0.025      0.975]\n",
      "---------------------------------------------------------------------------------------------\n",
      "const                      1.066e+05   3589.497     29.698      0.000    9.96e+04    1.14e+05\n",
      "Age                       -1935.5839    146.901    -13.176      0.000   -2223.571   -1647.597\n",
      "Years of Experience        7963.9791    188.280     42.299      0.000    7594.874    8333.084\n",
      "Education_High School     -3.509e+04   1654.362    -21.209      0.000   -3.83e+04   -3.18e+04\n",
      "Education_Master's Degree  1.266e+04   1001.579     12.640      0.000    1.07e+04    1.46e+04\n",
      "Education_PhD              2.447e+04   1240.837     19.719      0.000     2.2e+04    2.69e+04\n",
      "Gender_Male                5908.1507    793.481      7.446      0.000    4352.603    7463.698\n",
      "==============================================================================\n",
      "Omnibus:                      266.710   Durbin-Watson:                   2.008\n",
      "Prob(Omnibus):                  0.000   Jarque-Bera (JB):              320.063\n",
      "Skew:                           0.531   Prob(JB):                     3.16e-70\n",
      "Kurtosis:                       3.555   Cond. No.                         335.\n",
      "==============================================================================\n",
      "\n",
      "Notes:\n",
      "[1] Standard Errors assume that the covariance matrix of the errors is correctly specified.\n",
      "\n",
      "###################################\n",
      "#OOO# İntercept is :  106599.28\n"
     ]
    }
   ],
   "source": [
    "print(num_cols)\n",
    "print(f\"Kullanılan sütun sayısı :{len(num_cols)} \")\n",
    "Y = df_encoded_dropped[\"Salary\"]\n",
    "X = df_encoded_dropped[num_cols]\n",
    "\n",
    "X_train, X_test, y_train, y_test = train_test_split(X, Y, test_size=0.20, random_state=42)\n",
    "\n",
    "model = LinearRegression()\n",
    "model.fit(X_train, y_train)\n",
    "\n",
    "X_train_sm = sm.add_constant(X_train)\n",
    "model_sm = sm.OLS(y_train, X_train_sm).fit()\n",
    "\n",
    "print(model_sm.summary())\n",
    "\n",
    "intercept = model.intercept_\n",
    "print(\"\")\n",
    "print(\"#\"*35)\n",
    "print(\"#OOO# İntercept is : \", intercept.round(2))"
   ]
  },
  {
   "cell_type": "code",
   "execution_count": 55,
   "metadata": {},
   "outputs": [
    {
     "name": "stdout",
     "output_type": "stream",
     "text": [
      "########## TRAIN ##########\n",
      "Train R^2: 0.71700\n",
      "Train MAE: 21,942.50\n",
      "Train MSE: 787,050,808.88\n",
      "\n",
      "########## TEST ##########\n",
      "Test R^2: 0.72264\n",
      "Test MAE: 21,836.82\n",
      "Test MSE: 772,443,027.66\n",
      "\n",
      "########## Overfitting Control ##########\n",
      "Linear Regression Test MSE - Train MSE Difference: -14,607,781.23\n",
      "Percentage Difference: -1.86%\n"
     ]
    }
   ],
   "source": [
    "y_train_pred = model.predict(X_train)\n",
    "y_test_pred = model.predict(X_test)\n",
    "\n",
    "train_r2 = r2_score(y_train, y_train_pred)\n",
    "train_mse = mean_squared_error(y_train, y_train_pred)\n",
    "train_mae = mean_absolute_error(y_train, y_train_pred)\n",
    "\n",
    "test_r2 = r2_score(y_test, y_test_pred)\n",
    "test_mse = mean_squared_error(y_test, y_test_pred)\n",
    "test_mae = mean_absolute_error(y_test, y_test_pred)\n",
    "\n",
    "print(\"#\"*10, \"TRAIN\", \"#\"*10)\n",
    "print(f'Train R^2: {train_r2:.5f}')\n",
    "print(f'Train MAE: {train_mae:,.2f}')\n",
    "print(f'Train MSE: {train_mse:,.2f}')\n",
    "print(\"\")\n",
    "print(\"#\"*10, \"TEST\", \"#\"*10)\n",
    "print(f'Test R^2: {test_r2:.5f}')\n",
    "print(f'Test MAE: {test_mae:,.2f}')\n",
    "print(f'Test MSE: {test_mse:,.2f}')\n",
    "print(\"\")\n",
    "print(\"#\"*10, \"Overfitting Control\", \"#\"*10)\n",
    "print(f\"Linear Regression Test MSE - Train MSE Difference: {test_mse - train_mse:,.2f}\")\n",
    "print(f\"Percentage Difference: {((test_mse - train_mse) / train_mse) * 100:.2f}%\")"
   ]
  },
  {
   "cell_type": "markdown",
   "metadata": {},
   "source": [
    "Gender değişkeni modele anlamlı etki sağlamıyor. Bu yüzden modelden çıkartıyoruz :')"
   ]
  },
  {
   "cell_type": "markdown",
   "metadata": {},
   "source": [
    "## \"Job Title\" ekleme"
   ]
  },
  {
   "cell_type": "code",
   "execution_count": 56,
   "metadata": {},
   "outputs": [
    {
     "name": "stdout",
     "output_type": "stream",
     "text": [
      "Meslek Çeşiti 191\n"
     ]
    },
    {
     "data": {
      "text/plain": [
       "Job Title\n",
       "Software Engineer             518\n",
       "Data Scientist                453\n",
       "Software Engineer Manager     375\n",
       "Data Analyst                  363\n",
       "Senior Project Engineer       318\n",
       "                             ... \n",
       "Account Manager                 1\n",
       "Help Desk Analyst               1\n",
       "Senior Training Specialist      1\n",
       "Junior Web Designer             1\n",
       "Software Project Manager        1\n",
       "Name: count, Length: 191, dtype: int64"
      ]
     },
     "execution_count": 56,
     "metadata": {},
     "output_type": "execute_result"
    }
   ],
   "source": [
    "print(f\"Meslek Çeşiti {len(df['Job Title'].unique())}\")\n",
    "df[\"Job Title\"].value_counts()"
   ]
  },
  {
   "cell_type": "code",
   "execution_count": 57,
   "metadata": {},
   "outputs": [
    {
     "data": {
      "text/html": [
       "<div>\n",
       "<style scoped>\n",
       "    .dataframe tbody tr th:only-of-type {\n",
       "        vertical-align: middle;\n",
       "    }\n",
       "\n",
       "    .dataframe tbody tr th {\n",
       "        vertical-align: top;\n",
       "    }\n",
       "\n",
       "    .dataframe thead th {\n",
       "        text-align: right;\n",
       "    }\n",
       "</style>\n",
       "<table border=\"1\" class=\"dataframe\">\n",
       "  <thead>\n",
       "    <tr style=\"text-align: right;\">\n",
       "      <th></th>\n",
       "      <th>Age</th>\n",
       "      <th>Job Title</th>\n",
       "      <th>Years of Experience</th>\n",
       "      <th>Salary</th>\n",
       "      <th>Education_High School</th>\n",
       "      <th>Education_Master's Degree</th>\n",
       "      <th>Education_PhD</th>\n",
       "      <th>Gender_Male</th>\n",
       "    </tr>\n",
       "  </thead>\n",
       "  <tbody>\n",
       "    <tr>\n",
       "      <th>0</th>\n",
       "      <td>32.0</td>\n",
       "      <td>Software Engineer</td>\n",
       "      <td>5.0</td>\n",
       "      <td>90000.0</td>\n",
       "      <td>0</td>\n",
       "      <td>0</td>\n",
       "      <td>0</td>\n",
       "      <td>1</td>\n",
       "    </tr>\n",
       "    <tr>\n",
       "      <th>1</th>\n",
       "      <td>28.0</td>\n",
       "      <td>Data Analyst</td>\n",
       "      <td>3.0</td>\n",
       "      <td>65000.0</td>\n",
       "      <td>0</td>\n",
       "      <td>1</td>\n",
       "      <td>0</td>\n",
       "      <td>0</td>\n",
       "    </tr>\n",
       "    <tr>\n",
       "      <th>2</th>\n",
       "      <td>45.0</td>\n",
       "      <td>Senior Manager</td>\n",
       "      <td>15.0</td>\n",
       "      <td>150000.0</td>\n",
       "      <td>0</td>\n",
       "      <td>0</td>\n",
       "      <td>1</td>\n",
       "      <td>1</td>\n",
       "    </tr>\n",
       "    <tr>\n",
       "      <th>3</th>\n",
       "      <td>36.0</td>\n",
       "      <td>Sales Associate</td>\n",
       "      <td>7.0</td>\n",
       "      <td>60000.0</td>\n",
       "      <td>0</td>\n",
       "      <td>0</td>\n",
       "      <td>0</td>\n",
       "      <td>0</td>\n",
       "    </tr>\n",
       "    <tr>\n",
       "      <th>4</th>\n",
       "      <td>52.0</td>\n",
       "      <td>Director</td>\n",
       "      <td>20.0</td>\n",
       "      <td>200000.0</td>\n",
       "      <td>0</td>\n",
       "      <td>1</td>\n",
       "      <td>0</td>\n",
       "      <td>1</td>\n",
       "    </tr>\n",
       "  </tbody>\n",
       "</table>\n",
       "</div>"
      ],
      "text/plain": [
       "    Age          Job Title  Years of Experience    Salary  \\\n",
       "0  32.0  Software Engineer                  5.0   90000.0   \n",
       "1  28.0       Data Analyst                  3.0   65000.0   \n",
       "2  45.0     Senior Manager                 15.0  150000.0   \n",
       "3  36.0    Sales Associate                  7.0   60000.0   \n",
       "4  52.0           Director                 20.0  200000.0   \n",
       "\n",
       "   Education_High School  Education_Master's Degree  Education_PhD  \\\n",
       "0                      0                          0              0   \n",
       "1                      0                          1              0   \n",
       "2                      0                          0              1   \n",
       "3                      0                          0              0   \n",
       "4                      0                          1              0   \n",
       "\n",
       "   Gender_Male  \n",
       "0            1  \n",
       "1            0  \n",
       "2            1  \n",
       "3            0  \n",
       "4            1  "
      ]
     },
     "execution_count": 57,
     "metadata": {},
     "output_type": "execute_result"
    }
   ],
   "source": [
    "df_encoded_dropped.head()"
   ]
  },
  {
   "cell_type": "code",
   "execution_count": 58,
   "metadata": {},
   "outputs": [],
   "source": [
    "job_families = {\n",
    "    \"Technology & Data\": [\n",
    "        \"Software Engineer\",\n",
    "        \"Data Analyst\",\n",
    "        \"Software Developer\",\n",
    "        \"Senior Engineer\",\n",
    "        \"Software Manager\",\n",
    "        \"Junior Developer\",\n",
    "        \"Junior Software Developer\",\n",
    "        \"Web Developer\",\n",
    "        \"Full Stack Engineer\",\n",
    "        \"Front end Developer\",\n",
    "        \"Front End Developer\",\n",
    "        \"Back end Developer\",\n",
    "        \"Network Engineer\",\n",
    "        \"IT Support\",\n",
    "        \"IT Manager\",\n",
    "        \"IT Support Specialist\",\n",
    "        \"Technical Support Specialist\",\n",
    "        \"Technical Writer\",\n",
    "        \"Software Project Manager\",\n",
    "        \"Senior Software Developer\",\n",
    "        \"Senior Data Engineer\",\n",
    "        \"Data Scientist\",\n",
    "        \"Senior Data Scientist\",\n",
    "        \"Junior Data Analyst\",\n",
    "        \"Junior Data Scientist\",\n",
    "        \"Business Intelligence Analyst\",\n",
    "        \"Senior Data Analyst\",\n",
    "        \"Director of Data Science\",\n",
    "        \"Chief Data Officer\",\n",
    "        \"Research Scientist\",\n",
    "        \"Principal Scientist\",\n",
    "        \"Principal Engineer\",\n",
    "        \"Senior Software Engineer\",\n",
    "        \"Project Engineer\",\n",
    "        \"Strategy Consultant\",\n",
    "        \"Business Analyst\",\n",
    "        \"Senior Consultant\",\n",
    "        \"Senior Business Analyst\",\n",
    "        \"Senior Software Architect\",\n",
    "        \"Senior IT Project Manager\",\n",
    "        \"Senior IT Consultant\",\n",
    "        \"Senior Quality Assurance Analyst\",\n",
    "        \"Senior Project Engineer\",\n",
    "        \"Software Engineer Manager\",\n",
    "        \"Senior Product Development Manager\",\n",
    "        \"Senior Project Manager\",\n",
    "        \"Director of Product Management\",\n",
    "        \"Senior IT Consultant\",\n",
    "        \"Senior Data Engineer\",\n",
    "        \"Senior Software Architect\",\n",
    "        \"Software Engineer Manager\",\n",
    "        \"Senior Data Engineer\",\n",
    "        \"Senior Project Engineer\",\n",
    "        \"Software Engineer Manager\",\n",
    "        \"Senior Software Architect\"\n",
    "    ],\n",
    "    \"Sales\": [\n",
    "        \"Sales Associate\",\n",
    "        \"Sales Manager\",\n",
    "        \"Sales Director\",\n",
    "        \"Sales Executive\",\n",
    "        \"Sales Representative\",\n",
    "        \"Account Manager\",\n",
    "        \"Sales Operations Manager\",\n",
    "        \"Senior Sales Manager\",\n",
    "        \"Director of Sales\",\n",
    "        \"Senior Sales Representative\",\n",
    "        \"Junior Sales Representative\",\n",
    "        \"Junior Sales Associate\",\n",
    "        \"Senior Account Executive\",\n",
    "        \"Director of Sales and Marketing\",\n",
    "        \"Director of Business Development\",\n",
    "        \"Senior Business Development Manager\",\n",
    "        \"Senior Account Manager\",\n",
    "        \"Senior Account Executive\",\n",
    "        \"Director of Sales and Marketing\",\n",
    "        \"Director of Business Development\",\n",
    "        \"Senior Business Development Manager\"\n",
    "    ],\n",
    "    \"Marketing\": [\n",
    "        \"Marketing Analyst\",\n",
    "        \"Marketing Coordinator\",\n",
    "        \"Marketing Manager\",\n",
    "        \"Social Media Specialist\",\n",
    "        \"Marketing Specialist\",\n",
    "        \"Content Marketing Manager\",\n",
    "        \"Digital Marketing Manager\",\n",
    "        \"Copywriter\",\n",
    "        \"Director of Marketing\",\n",
    "        \"Digital Content Producer\",\n",
    "        \"Senior Marketing Analyst\",\n",
    "        \"Senior Marketing Manager\",\n",
    "        \"Public Relations Manager\",\n",
    "        \"Product Marketing Manager\",\n",
    "        \"Junior Marketing Analyst\",\n",
    "        \"Senior Product Marketing Manager\",\n",
    "        \"Junior Marketing Manager\",\n",
    "        \"Junior Marketing Specialist\",\n",
    "        \"Junior Marketing Coordinator\",\n",
    "        \"Digital Marketing Specialist\",\n",
    "        \"Marketing Director\",\n",
    "        \"Social Media Manager\",\n",
    "        \"Social Media Man\"  # Assuming this is \"Social Media Manager\"\n",
    "    ],\n",
    "    \"Human Resources\": [\n",
    "        \"HR Manager\",\n",
    "        \"Recruiter\",\n",
    "        \"HR Generalist\",\n",
    "        \"HR Coordinator\",\n",
    "        \"Human Resources Director\",\n",
    "        \"Technical Recruiter\",\n",
    "        \"Training Specialist\",\n",
    "        \"Senior HR Manager\",\n",
    "        \"Senior HR Generalist\",\n",
    "        \"Senior Human Resources Manager\",\n",
    "        \"Senior Human Resources Coordinator\",\n",
    "        \"Director of Human Resources\",\n",
    "        \"Human Resources Coordinator\",\n",
    "        \"Human Resources Manager\",\n",
    "        \"Juniour HR Generalist\",\n",
    "        \"Juniour HR Coordinator\",\n",
    "        \"Junior Recruiter\",\n",
    "        \"Senior Human Resources Manager\",\n",
    "        \"Senior Human Resources Coordinator\",\n",
    "        \"Senior Human Resources Specialist\",\n",
    "        \"Director of Human Capital\",\n",
    "        \"Human Resources Coordinator\",\n",
    "        \"Human Resources Manager\",\n",
    "        \"Juniour HR Generalist\",\n",
    "        \"Juniour HR Coordinator\"\n",
    "    ],\n",
    "    \"Finance / Accounting\": [\n",
    "        \"Financial Analyst\",\n",
    "        \"Financial Manager\",\n",
    "        \"Accountant\",\n",
    "        \"Junior Accountant\",\n",
    "        \"VP of Finance\",\n",
    "        \"Financial Advisor\",\n",
    "        \"Senior Financial Analyst\",\n",
    "        \"Senior Accountant\",\n",
    "        \"Director of Finance\",\n",
    "        \"Senior Financial Advisor\",\n",
    "        \"Junior Financial Analyst\",\n",
    "        \"Junior Financial Advisor\",\n",
    "        \"Senior Financial Manager\",\n",
    "        \"Senior Accountant\"\n",
    "    ],\n",
    "    \"Operations\": [\n",
    "        \"Operations Manager\",\n",
    "        \"Operations Director\",\n",
    "        \"VP of Operations\",\n",
    "        \"Operations Analyst\",\n",
    "        \"Supply Chain Manager\",\n",
    "        \"Supply Chain Analyst\",\n",
    "        \"Senior Operations Manager\",\n",
    "        \"Senior Operations Analyst\",\n",
    "        \"Junior Operations Analyst\",\n",
    "        \"Junior Operations Manager\",\n",
    "        \"Senior Operations Coordinator\",\n",
    "        \"Junior Operations Coordinator\",\n",
    "        \"Delivery Driver\",\n",
    "        \"Senior Operations Manager\",\n",
    "        \"Senior Operations Analyst\",\n",
    "        \"Junior Operations Coordinator\",\n",
    "        \"Senior Operations Coordinator\",\n",
    "        \"Junior Operations Manager\",\n",
    "        \"Senior Operations Manager\",\n",
    "        \"Senior Operations Analyst\"\n",
    "    ],\n",
    "    \"Customer Service / Support\": [\n",
    "        \"Customer Service Rep\",\n",
    "        \"Customer Service Manager\",\n",
    "        \"Customer Service Representative\",\n",
    "        \"Customer Success Rep\",\n",
    "        \"Customer Success Manager\",\n",
    "        \"Customer Support Specialist\",\n",
    "        \"Junior Customer Support Specialist\"\n",
    "    ],\n",
    "    \"Design / Creative\": [\n",
    "        \"Product Designer\",\n",
    "        \"UX Designer\",\n",
    "        \"Graphic Designer\",\n",
    "        \"UX Researcher\",\n",
    "        \"Creative Director\",\n",
    "        \"Junior Designer\",\n",
    "        \"Senior Graphic Designer\",\n",
    "        \"Senior UX Designer\",\n",
    "        \"Junior UX Designer\",\n",
    "        \"Junior Web Designer\",\n",
    "        \"Senior Product Designer\",\n",
    "        \"Junior Designer\",\n",
    "        \"Junior Web Designer\",\n",
    "        \"Senior Graphic Designer\",\n",
    "        \"Senior UX Designer\",\n",
    "        \"Junior UX Designer\"\n",
    "    ],\n",
    "    \"Research / Science\": [\n",
    "        \"Senior Scientist\",\n",
    "        \"Research Scientist\",\n",
    "        \"Principal Scientist\",\n",
    "        \"Research Director\",\n",
    "        \"Senior Research Scientist\",\n",
    "        \"Senior Researcher\",\n",
    "        \"Junior Research Scientist\",\n",
    "        \"Senior Research Scientist\"\n",
    "    ],\n",
    "    \"Administrative / Support\": [\n",
    "        \"Administrative Assistant\",\n",
    "        \"Office Manager\",\n",
    "        \"Receptionist\"\n",
    "    ],\n",
    "    \"Executive\": [\n",
    "        \"CEO\",\n",
    "        \"Chief Technology Officer\",\n",
    "        \"Chief Data Officer\"\n",
    "    ]\n",
    "}"
   ]
  },
  {
   "cell_type": "code",
   "execution_count": 59,
   "metadata": {},
   "outputs": [],
   "source": [
    "def job_transformer(job):\n",
    "    global job_families\n",
    "    for family, title in job_families.items():\n",
    "        if job in title:\n",
    "            return family"
   ]
  },
  {
   "cell_type": "code",
   "execution_count": 60,
   "metadata": {},
   "outputs": [],
   "source": [
    "df_encoded_dropped[\"Job Family\"] = df_encoded_dropped[\"Job Title\"].apply(job_transformer)"
   ]
  },
  {
   "cell_type": "code",
   "execution_count": 61,
   "metadata": {},
   "outputs": [
    {
     "data": {
      "text/html": [
       "<div>\n",
       "<style scoped>\n",
       "    .dataframe tbody tr th:only-of-type {\n",
       "        vertical-align: middle;\n",
       "    }\n",
       "\n",
       "    .dataframe tbody tr th {\n",
       "        vertical-align: top;\n",
       "    }\n",
       "\n",
       "    .dataframe thead th {\n",
       "        text-align: right;\n",
       "    }\n",
       "</style>\n",
       "<table border=\"1\" class=\"dataframe\">\n",
       "  <thead>\n",
       "    <tr style=\"text-align: right;\">\n",
       "      <th></th>\n",
       "      <th>Age</th>\n",
       "      <th>Gender</th>\n",
       "      <th>Education Level</th>\n",
       "      <th>Job Title</th>\n",
       "      <th>Years of Experience</th>\n",
       "      <th>Salary</th>\n",
       "      <th>Education Level Encoded</th>\n",
       "      <th>Education Level Mapped</th>\n",
       "    </tr>\n",
       "  </thead>\n",
       "  <tbody>\n",
       "    <tr>\n",
       "      <th>0</th>\n",
       "      <td>32.0</td>\n",
       "      <td>Male</td>\n",
       "      <td>Bachelor's Degree</td>\n",
       "      <td>Software Engineer</td>\n",
       "      <td>5.0</td>\n",
       "      <td>90000.0</td>\n",
       "      <td>0</td>\n",
       "      <td>1</td>\n",
       "    </tr>\n",
       "    <tr>\n",
       "      <th>1</th>\n",
       "      <td>28.0</td>\n",
       "      <td>Female</td>\n",
       "      <td>Master's Degree</td>\n",
       "      <td>Data Analyst</td>\n",
       "      <td>3.0</td>\n",
       "      <td>65000.0</td>\n",
       "      <td>2</td>\n",
       "      <td>2</td>\n",
       "    </tr>\n",
       "    <tr>\n",
       "      <th>2</th>\n",
       "      <td>45.0</td>\n",
       "      <td>Male</td>\n",
       "      <td>PhD</td>\n",
       "      <td>Senior Manager</td>\n",
       "      <td>15.0</td>\n",
       "      <td>150000.0</td>\n",
       "      <td>3</td>\n",
       "      <td>3</td>\n",
       "    </tr>\n",
       "    <tr>\n",
       "      <th>3</th>\n",
       "      <td>36.0</td>\n",
       "      <td>Female</td>\n",
       "      <td>Bachelor's Degree</td>\n",
       "      <td>Sales Associate</td>\n",
       "      <td>7.0</td>\n",
       "      <td>60000.0</td>\n",
       "      <td>0</td>\n",
       "      <td>1</td>\n",
       "    </tr>\n",
       "    <tr>\n",
       "      <th>4</th>\n",
       "      <td>52.0</td>\n",
       "      <td>Male</td>\n",
       "      <td>Master's Degree</td>\n",
       "      <td>Director</td>\n",
       "      <td>20.0</td>\n",
       "      <td>200000.0</td>\n",
       "      <td>2</td>\n",
       "      <td>2</td>\n",
       "    </tr>\n",
       "  </tbody>\n",
       "</table>\n",
       "</div>"
      ],
      "text/plain": [
       "    Age  Gender    Education Level          Job Title  Years of Experience  \\\n",
       "0  32.0    Male  Bachelor's Degree  Software Engineer                  5.0   \n",
       "1  28.0  Female    Master's Degree       Data Analyst                  3.0   \n",
       "2  45.0    Male                PhD     Senior Manager                 15.0   \n",
       "3  36.0  Female  Bachelor's Degree    Sales Associate                  7.0   \n",
       "4  52.0    Male    Master's Degree           Director                 20.0   \n",
       "\n",
       "     Salary  Education Level Encoded  Education Level Mapped  \n",
       "0   90000.0                        0                       1  \n",
       "1   65000.0                        2                       2  \n",
       "2  150000.0                        3                       3  \n",
       "3   60000.0                        0                       1  \n",
       "4  200000.0                        2                       2  "
      ]
     },
     "execution_count": 61,
     "metadata": {},
     "output_type": "execute_result"
    }
   ],
   "source": [
    "df.head()"
   ]
  },
  {
   "cell_type": "code",
   "execution_count": 62,
   "metadata": {},
   "outputs": [],
   "source": [
    "df_encoded_dropped = pd.get_dummies(\n",
    "    (df_encoded_dropped.drop('Job Title', axis = 1)),\n",
    "    dtype=int,drop_first = True)   "
   ]
  },
  {
   "cell_type": "code",
   "execution_count": 63,
   "metadata": {},
   "outputs": [
    {
     "data": {
      "text/html": [
       "<div>\n",
       "<style scoped>\n",
       "    .dataframe tbody tr th:only-of-type {\n",
       "        vertical-align: middle;\n",
       "    }\n",
       "\n",
       "    .dataframe tbody tr th {\n",
       "        vertical-align: top;\n",
       "    }\n",
       "\n",
       "    .dataframe thead th {\n",
       "        text-align: right;\n",
       "    }\n",
       "</style>\n",
       "<table border=\"1\" class=\"dataframe\">\n",
       "  <thead>\n",
       "    <tr style=\"text-align: right;\">\n",
       "      <th></th>\n",
       "      <th>Age</th>\n",
       "      <th>Years of Experience</th>\n",
       "      <th>Salary</th>\n",
       "      <th>Education_High School</th>\n",
       "      <th>Education_Master's Degree</th>\n",
       "      <th>Education_PhD</th>\n",
       "      <th>Gender_Male</th>\n",
       "      <th>Job Family_Customer Service / Support</th>\n",
       "      <th>Job Family_Design / Creative</th>\n",
       "      <th>Job Family_Executive</th>\n",
       "      <th>Job Family_Finance / Accounting</th>\n",
       "      <th>Job Family_Human Resources</th>\n",
       "      <th>Job Family_Marketing</th>\n",
       "      <th>Job Family_Operations</th>\n",
       "      <th>Job Family_Research / Science</th>\n",
       "      <th>Job Family_Sales</th>\n",
       "      <th>Job Family_Technology &amp; Data</th>\n",
       "    </tr>\n",
       "  </thead>\n",
       "  <tbody>\n",
       "    <tr>\n",
       "      <th>0</th>\n",
       "      <td>32.0</td>\n",
       "      <td>5.0</td>\n",
       "      <td>90000.0</td>\n",
       "      <td>0</td>\n",
       "      <td>0</td>\n",
       "      <td>0</td>\n",
       "      <td>1</td>\n",
       "      <td>0</td>\n",
       "      <td>0</td>\n",
       "      <td>0</td>\n",
       "      <td>0</td>\n",
       "      <td>0</td>\n",
       "      <td>0</td>\n",
       "      <td>0</td>\n",
       "      <td>0</td>\n",
       "      <td>0</td>\n",
       "      <td>1</td>\n",
       "    </tr>\n",
       "    <tr>\n",
       "      <th>1</th>\n",
       "      <td>28.0</td>\n",
       "      <td>3.0</td>\n",
       "      <td>65000.0</td>\n",
       "      <td>0</td>\n",
       "      <td>1</td>\n",
       "      <td>0</td>\n",
       "      <td>0</td>\n",
       "      <td>0</td>\n",
       "      <td>0</td>\n",
       "      <td>0</td>\n",
       "      <td>0</td>\n",
       "      <td>0</td>\n",
       "      <td>0</td>\n",
       "      <td>0</td>\n",
       "      <td>0</td>\n",
       "      <td>0</td>\n",
       "      <td>1</td>\n",
       "    </tr>\n",
       "    <tr>\n",
       "      <th>2</th>\n",
       "      <td>45.0</td>\n",
       "      <td>15.0</td>\n",
       "      <td>150000.0</td>\n",
       "      <td>0</td>\n",
       "      <td>0</td>\n",
       "      <td>1</td>\n",
       "      <td>1</td>\n",
       "      <td>0</td>\n",
       "      <td>0</td>\n",
       "      <td>0</td>\n",
       "      <td>0</td>\n",
       "      <td>0</td>\n",
       "      <td>0</td>\n",
       "      <td>0</td>\n",
       "      <td>0</td>\n",
       "      <td>0</td>\n",
       "      <td>0</td>\n",
       "    </tr>\n",
       "    <tr>\n",
       "      <th>3</th>\n",
       "      <td>36.0</td>\n",
       "      <td>7.0</td>\n",
       "      <td>60000.0</td>\n",
       "      <td>0</td>\n",
       "      <td>0</td>\n",
       "      <td>0</td>\n",
       "      <td>0</td>\n",
       "      <td>0</td>\n",
       "      <td>0</td>\n",
       "      <td>0</td>\n",
       "      <td>0</td>\n",
       "      <td>0</td>\n",
       "      <td>0</td>\n",
       "      <td>0</td>\n",
       "      <td>0</td>\n",
       "      <td>1</td>\n",
       "      <td>0</td>\n",
       "    </tr>\n",
       "    <tr>\n",
       "      <th>4</th>\n",
       "      <td>52.0</td>\n",
       "      <td>20.0</td>\n",
       "      <td>200000.0</td>\n",
       "      <td>0</td>\n",
       "      <td>1</td>\n",
       "      <td>0</td>\n",
       "      <td>1</td>\n",
       "      <td>0</td>\n",
       "      <td>0</td>\n",
       "      <td>0</td>\n",
       "      <td>0</td>\n",
       "      <td>0</td>\n",
       "      <td>0</td>\n",
       "      <td>0</td>\n",
       "      <td>0</td>\n",
       "      <td>0</td>\n",
       "      <td>0</td>\n",
       "    </tr>\n",
       "  </tbody>\n",
       "</table>\n",
       "</div>"
      ],
      "text/plain": [
       "    Age  Years of Experience    Salary  Education_High School  \\\n",
       "0  32.0                  5.0   90000.0                      0   \n",
       "1  28.0                  3.0   65000.0                      0   \n",
       "2  45.0                 15.0  150000.0                      0   \n",
       "3  36.0                  7.0   60000.0                      0   \n",
       "4  52.0                 20.0  200000.0                      0   \n",
       "\n",
       "   Education_Master's Degree  Education_PhD  Gender_Male  \\\n",
       "0                          0              0            1   \n",
       "1                          1              0            0   \n",
       "2                          0              1            1   \n",
       "3                          0              0            0   \n",
       "4                          1              0            1   \n",
       "\n",
       "   Job Family_Customer Service / Support  Job Family_Design / Creative  \\\n",
       "0                                      0                             0   \n",
       "1                                      0                             0   \n",
       "2                                      0                             0   \n",
       "3                                      0                             0   \n",
       "4                                      0                             0   \n",
       "\n",
       "   Job Family_Executive  Job Family_Finance / Accounting  \\\n",
       "0                     0                                0   \n",
       "1                     0                                0   \n",
       "2                     0                                0   \n",
       "3                     0                                0   \n",
       "4                     0                                0   \n",
       "\n",
       "   Job Family_Human Resources  Job Family_Marketing  Job Family_Operations  \\\n",
       "0                           0                     0                      0   \n",
       "1                           0                     0                      0   \n",
       "2                           0                     0                      0   \n",
       "3                           0                     0                      0   \n",
       "4                           0                     0                      0   \n",
       "\n",
       "   Job Family_Research / Science  Job Family_Sales  \\\n",
       "0                              0                 0   \n",
       "1                              0                 0   \n",
       "2                              0                 0   \n",
       "3                              0                 1   \n",
       "4                              0                 0   \n",
       "\n",
       "   Job Family_Technology & Data  \n",
       "0                             1  \n",
       "1                             1  \n",
       "2                             0  \n",
       "3                             0  \n",
       "4                             0  "
      ]
     },
     "execution_count": 63,
     "metadata": {},
     "output_type": "execute_result"
    }
   ],
   "source": [
    "df_encoded_dropped.head()"
   ]
  },
  {
   "cell_type": "code",
   "execution_count": 64,
   "metadata": {},
   "outputs": [
    {
     "data": {
      "text/plain": [
       "Index(['Age', 'Years of Experience', 'Education_High School',\n",
       "       'Education_Master's Degree', 'Education_PhD', 'Gender_Male',\n",
       "       'Job Family_Customer Service / Support', 'Job Family_Design / Creative',\n",
       "       'Job Family_Executive', 'Job Family_Finance / Accounting',\n",
       "       'Job Family_Human Resources', 'Job Family_Marketing',\n",
       "       'Job Family_Operations', 'Job Family_Research / Science',\n",
       "       'Job Family_Sales', 'Job Family_Technology & Data'],\n",
       "      dtype='object')"
      ]
     },
     "execution_count": 64,
     "metadata": {},
     "output_type": "execute_result"
    }
   ],
   "source": [
    "num_cols = df_encoded_dropped.select_dtypes(include=[\"int32\", \"float64\"]).columns\n",
    "num_cols = num_cols.drop(\"Salary\")\n",
    "num_cols"
   ]
  },
  {
   "cell_type": "code",
   "execution_count": 65,
   "metadata": {},
   "outputs": [
    {
     "name": "stdout",
     "output_type": "stream",
     "text": [
      "Index(['Age', 'Years of Experience', 'Education_High School',\n",
      "       'Education_Master's Degree', 'Education_PhD', 'Gender_Male',\n",
      "       'Job Family_Customer Service / Support', 'Job Family_Design / Creative',\n",
      "       'Job Family_Executive', 'Job Family_Finance / Accounting',\n",
      "       'Job Family_Human Resources', 'Job Family_Marketing',\n",
      "       'Job Family_Operations', 'Job Family_Research / Science',\n",
      "       'Job Family_Sales', 'Job Family_Technology & Data'],\n",
      "      dtype='object')\n",
      "Kullanılan sütun sayısı :16 \n",
      "                            OLS Regression Results                            \n",
      "==============================================================================\n",
      "Dep. Variable:                 Salary   R-squared:                       0.749\n",
      "Model:                            OLS   Adj. R-squared:                  0.749\n",
      "Method:                 Least Squares   F-statistic:                     996.1\n",
      "Date:                Tue, 10 Dec 2024   Prob (F-statistic):               0.00\n",
      "Time:                        18:46:38   Log-Likelihood:                -61990.\n",
      "No. Observations:                5344   AIC:                         1.240e+05\n",
      "Df Residuals:                    5327   BIC:                         1.241e+05\n",
      "Df Model:                          16                                         \n",
      "Covariance Type:            nonrobust                                         \n",
      "=========================================================================================================\n",
      "                                            coef    std err          t      P>|t|      [0.025      0.975]\n",
      "---------------------------------------------------------------------------------------------------------\n",
      "const                                  9.673e+04   3641.614     26.563      0.000    8.96e+04    1.04e+05\n",
      "Age                                   -1439.4785    142.112    -10.129      0.000   -1718.075   -1160.882\n",
      "Years of Experience                    7364.1286    181.077     40.669      0.000    7009.144    7719.113\n",
      "Education_High School                 -2.852e+04   1910.793    -14.926      0.000   -3.23e+04   -2.48e+04\n",
      "Education_Master's Degree              1.265e+04    962.987     13.141      0.000    1.08e+04    1.45e+04\n",
      "Education_PhD                          2.017e+04   1250.010     16.134      0.000    1.77e+04    2.26e+04\n",
      "Gender_Male                            2998.5193    771.485      3.887      0.000    1486.093    4510.945\n",
      "Job Family_Customer Service / Support -2.613e+04   8900.997     -2.935      0.003   -4.36e+04   -8679.034\n",
      "Job Family_Design / Creative          -2.246e+04   3067.291     -7.322      0.000   -2.85e+04   -1.64e+04\n",
      "Job Family_Executive                   3.318e+04   1.88e+04      1.767      0.077   -3626.157       7e+04\n",
      "Job Family_Finance / Accounting        1419.9311   2405.335      0.590      0.555   -3295.511    6135.373\n",
      "Job Family_Human Resources            -2.319e+04   2177.517    -10.648      0.000   -2.75e+04   -1.89e+04\n",
      "Job Family_Marketing                  -1.215e+04   1471.118     -8.257      0.000    -1.5e+04   -9262.338\n",
      "Job Family_Operations                 -1.438e+04   2797.263     -5.140      0.000   -1.99e+04   -8893.507\n",
      "Job Family_Research / Science          1303.2432   3007.570      0.433      0.665   -4592.825    7199.311\n",
      "Job Family_Sales                       -1.14e+04   1952.069     -5.840      0.000   -1.52e+04   -7573.893\n",
      "Job Family_Technology & Data           7927.2922   1248.547      6.349      0.000    5479.629    1.04e+04\n",
      "==============================================================================\n",
      "Omnibus:                      147.995   Durbin-Watson:                   2.027\n",
      "Prob(Omnibus):                  0.000   Jarque-Bera (JB):              195.783\n",
      "Skew:                           0.321   Prob(JB):                     3.06e-43\n",
      "Kurtosis:                       3.683   Cond. No.                     1.85e+03\n",
      "==============================================================================\n",
      "\n",
      "Notes:\n",
      "[1] Standard Errors assume that the covariance matrix of the errors is correctly specified.\n",
      "[2] The condition number is large, 1.85e+03. This might indicate that there are\n",
      "strong multicollinearity or other numerical problems.\n",
      "\n",
      "###################################\n",
      "#OOO# İntercept is :  96733.03\n"
     ]
    }
   ],
   "source": [
    "print(num_cols)\n",
    "print(f\"Kullanılan sütun sayısı :{len(num_cols)} \")\n",
    "Y = df_encoded_dropped[\"Salary\"]\n",
    "X = df_encoded_dropped[num_cols]\n",
    "\n",
    "X_train, X_test, y_train, y_test = train_test_split(X, Y, test_size=0.20, random_state=42)\n",
    "\n",
    "model = LinearRegression()\n",
    "model.fit(X_train, y_train)\n",
    "\n",
    "X_train_sm = sm.add_constant(X_train)\n",
    "model_sm = sm.OLS(y_train, X_train_sm).fit()\n",
    "\n",
    "print(model_sm.summary())\n",
    "\n",
    "intercept = model.intercept_\n",
    "print(\"\")\n",
    "print(\"#\"*35)\n",
    "print(\"#OOO# İntercept is : \", intercept.round(2))"
   ]
  },
  {
   "cell_type": "code",
   "execution_count": 66,
   "metadata": {},
   "outputs": [
    {
     "name": "stdout",
     "output_type": "stream",
     "text": [
      "########## TRAIN ##########\n",
      "Train R^2: 0.74950\n",
      "Train MAE: 20,305.24\n",
      "Train MSE: 696,669,009.86\n",
      "\n",
      "########## TEST ##########\n",
      "Test R^2: 0.74937\n",
      "Test MAE: 20,368.92\n",
      "Test MSE: 697,992,987.84\n",
      "\n",
      "########## Overfitting Control ##########\n",
      "Linear Regression Test MSE - Train MSE Difference: 1,323,977.98\n",
      "Percentage Difference: 0.19%\n"
     ]
    }
   ],
   "source": [
    "y_train_pred = model.predict(X_train)\n",
    "y_test_pred = model.predict(X_test)\n",
    "\n",
    "train_r2 = r2_score(y_train, y_train_pred)\n",
    "train_mse = mean_squared_error(y_train, y_train_pred)\n",
    "train_mae = mean_absolute_error(y_train, y_train_pred)\n",
    "\n",
    "test_r2 = r2_score(y_test, y_test_pred)\n",
    "test_mse = mean_squared_error(y_test, y_test_pred)\n",
    "test_mae = mean_absolute_error(y_test, y_test_pred)\n",
    "\n",
    "print(\"#\"*10, \"TRAIN\", \"#\"*10)\n",
    "print(f'Train R^2: {train_r2:.5f}')\n",
    "print(f'Train MAE: {train_mae:,.2f}')\n",
    "print(f'Train MSE: {train_mse:,.2f}')\n",
    "print(\"\")\n",
    "print(\"#\"*10, \"TEST\", \"#\"*10)\n",
    "print(f'Test R^2: {test_r2:.5f}')\n",
    "print(f'Test MAE: {test_mae:,.2f}')\n",
    "print(f'Test MSE: {test_mse:,.2f}')\n",
    "print(\"\")\n",
    "print(\"#\"*10, \"Overfitting Control\", \"#\"*10)\n",
    "print(f\"Linear Regression Test MSE - Train MSE Difference: {test_mse - train_mse:,.2f}\")\n",
    "print(f\"Percentage Difference: {((test_mse - train_mse) / train_mse) * 100:.2f}%\")"
   ]
  },
  {
   "cell_type": "markdown",
   "metadata": {},
   "source": [
    "Model performansını veri setindeki tüm değişkenleri modele dahil ederek arttırmaya çalıştık. Sadece sayısal değerlerin olduğu model r^2 = 0.66 iken, kategorik değişkenlerinde modele dahil edildiği model r^2 = 0.74'e kadar yükseldi. Model \"Job Title\" kısmında yapılan sınıflandırma işlemindense, farklı bir teknik kullanılarak modele dahil edilirse, model daha iyi performans verebilir. \n",
    "\n",
    "Hatta bu duruma yanlı bir çözüm istersek, n adet sınıfı olan y kombinasyonlu bütün job title'ları her bir olasılığını deneyip, en iyi r^2 yi veren sınıflandırma kombinasyonunu kullanılabilinir. Fakat bu söylediğim üzere yanlı bir tahmin edici oluşturmamıza yol açabilir.\n",
    "\n",
    "Başka bir yaklaşım ise farklı modeller denemek olacaktır."
   ]
  },
  {
   "cell_type": "markdown",
   "metadata": {},
   "source": [
    "---\n",
    "---\n",
    "---\n",
    "---"
   ]
  },
  {
   "cell_type": "markdown",
   "metadata": {},
   "source": [
    "Decision Tree"
   ]
  },
  {
   "cell_type": "code",
   "execution_count": 67,
   "metadata": {},
   "outputs": [
    {
     "data": {
      "text/plain": [
       "Index(['Age', 'Years of Experience', 'Education_High School',\n",
       "       'Education_Master's Degree', 'Education_PhD', 'Gender_Male',\n",
       "       'Job Family_Customer Service / Support', 'Job Family_Design / Creative',\n",
       "       'Job Family_Executive', 'Job Family_Finance / Accounting',\n",
       "       'Job Family_Human Resources', 'Job Family_Marketing',\n",
       "       'Job Family_Operations', 'Job Family_Research / Science',\n",
       "       'Job Family_Sales', 'Job Family_Technology & Data'],\n",
       "      dtype='object')"
      ]
     },
     "execution_count": 67,
     "metadata": {},
     "output_type": "execute_result"
    }
   ],
   "source": [
    "X_train.columns"
   ]
  },
  {
   "cell_type": "code",
   "execution_count": 68,
   "metadata": {},
   "outputs": [
    {
     "name": "stdout",
     "output_type": "stream",
     "text": [
      "Mean Squared Error: 176,926,032.62\n",
      "R-squared: 0.936\n",
      "MAE is : 5968.422\n"
     ]
    }
   ],
   "source": [
    "from sklearn.tree import DecisionTreeRegressor\n",
    "model = DecisionTreeRegressor()\n",
    "\n",
    "model.fit(X_train, y_train)\n",
    "\n",
    "y_pred = model.predict(X_test)\n",
    "\n",
    "mse = mean_squared_error(y_test, y_pred)\n",
    "print(f\"Mean Squared Error: {mse:,.2f}\")\n",
    "\n",
    "r2_tree = r2_score(y_test, y_pred)\n",
    "print(\"R-squared:\", r2_tree.round(3))\n",
    "\n",
    "mae = round(mean_absolute_error(y_test, y_pred), 3)\n",
    "print(f\"MAE is : {mae}\")"
   ]
  },
  {
   "cell_type": "markdown",
   "metadata": {},
   "source": [
    "Random Forrest"
   ]
  },
  {
   "cell_type": "code",
   "execution_count": 69,
   "metadata": {},
   "outputs": [
    {
     "name": "stdout",
     "output_type": "stream",
     "text": [
      "Mean Squared Error: 151,486,685.24\n",
      "R-squared: 0.946\n",
      "MAE is : 6,118.20\n"
     ]
    }
   ],
   "source": [
    "from sklearn.ensemble import RandomForestRegressor\n",
    "model = RandomForestRegressor()\n",
    "\n",
    "model.fit(X_train, y_train)\n",
    "\n",
    "y_pred = model.predict(X_test)\n",
    "\n",
    "mse = mean_squared_error(y_test, y_pred)\n",
    "print(f\"Mean Squared Error: {mse:,.2f}\")\n",
    "\n",
    "r2_forest = r2_score(y_test, y_pred)\n",
    "print(\"R-squared:\", r2_forest.round(3))\n",
    "\n",
    "mae = mean_absolute_error(y_test, y_pred)\n",
    "print(f\"MAE is : {mae:,.2f}\")"
   ]
  },
  {
   "cell_type": "markdown",
   "metadata": {},
   "source": [
    "Polinom reg"
   ]
  },
  {
   "cell_type": "code",
   "execution_count": 70,
   "metadata": {},
   "outputs": [],
   "source": [
    "num_cols = df.select_dtypes(float)\n",
    "num_cols.drop(columns=[\"Salary\"], inplace=True)\n",
    "num_cols = num_cols.columns"
   ]
  },
  {
   "cell_type": "code",
   "execution_count": 71,
   "metadata": {},
   "outputs": [
    {
     "name": "stdout",
     "output_type": "stream",
     "text": [
      "Model Sütun Sayısı: 2\n",
      "Index(['Age', 'Years of Experience'], dtype='object')\n",
      "                            OLS Regression Results                            \n",
      "==============================================================================\n",
      "Dep. Variable:                 Salary   R-squared:                       0.778\n",
      "Model:                            OLS   Adj. R-squared:                  0.778\n",
      "Method:                 Least Squares   F-statistic:                     3754.\n",
      "Date:                Tue, 10 Dec 2024   Prob (F-statistic):               0.00\n",
      "Time:                        18:46:39   Log-Likelihood:                -61801.\n",
      "No. Observations:                5355   AIC:                         1.236e+05\n",
      "Df Residuals:                    5349   BIC:                         1.237e+05\n",
      "Df Model:                           5                                         \n",
      "Covariance Type:            nonrobust                                         \n",
      "==============================================================================\n",
      "                 coef    std err          t      P>|t|      [0.025      0.975]\n",
      "------------------------------------------------------------------------------\n",
      "const       4.119e+05   1.61e+04     25.513      0.000     3.8e+05    4.44e+05\n",
      "x1         -2.275e+04   1244.314    -18.280      0.000   -2.52e+04   -2.03e+04\n",
      "x2          3.028e+04   1619.401     18.698      0.000    2.71e+04    3.35e+04\n",
      "x3           294.8265     25.078     11.756      0.000     245.664     343.989\n",
      "x4          -292.1918     68.258     -4.281      0.000    -426.005    -158.379\n",
      "x5          -343.2141     45.925     -7.473      0.000    -433.245    -253.183\n",
      "==============================================================================\n",
      "Omnibus:                      229.271   Durbin-Watson:                   1.988\n",
      "Prob(Omnibus):                  0.000   Jarque-Bera (JB):              262.496\n",
      "Skew:                           0.505   Prob(JB):                     1.00e-57\n",
      "Kurtosis:                       3.393   Cond. No.                     6.62e+04\n",
      "==============================================================================\n",
      "\n",
      "Notes:\n",
      "[1] Standard Errors assume that the covariance matrix of the errors is correctly specified.\n",
      "[2] The condition number is large, 6.62e+04. This might indicate that there are\n",
      "strong multicollinearity or other numerical problems.\n",
      "\n",
      "###################################\n",
      "#OOO# Intercept is :  411862.37\n",
      "########## TRAIN ##########\n",
      "Train R^2: 0.77824\n",
      "Train MAE: 19,673.31\n",
      "Train MSE: 619,133,527.72\n",
      "\n",
      "########## TEST ##########\n",
      "Test R^2: 0.78547\n",
      "Test MAE: 19,214.81\n",
      "Test MSE: 585,968,183.77\n",
      "\n",
      "########## Overfitting Control ##########\n",
      "Linear Regression Test MSE - Train MSE Difference: -33,165,343.95\n",
      "Percentage Difference: -5.36%\n"
     ]
    }
   ],
   "source": [
    "from sklearn.preprocessing import PolynomialFeatures\n",
    "from sklearn.linear_model import LinearRegression\n",
    "\n",
    "X = df[num_cols]\n",
    "Y = df[\"Salary\"]\n",
    "\n",
    "X_train, X_test, y_train, y_test = train_test_split(X, Y, test_size=0.2, random_state=42)\n",
    "\n",
    "poly = PolynomialFeatures(degree=2)\n",
    "X_train_poly = poly.fit_transform(X_train)\n",
    "X_test_poly = poly.transform(X_test)  \n",
    "\n",
    "model = LinearRegression()\n",
    "model.fit(X_train_poly, y_train)\n",
    "\n",
    "X_train_poly_sm = sm.add_constant(X_train_poly)\n",
    "model_sm = sm.OLS(y_train, X_train_poly_sm).fit()\n",
    "\n",
    "print(f\"Model Sütun Sayısı: {len(num_cols)}\")\n",
    "print(num_cols)\n",
    "print(model_sm.summary())\n",
    "\n",
    "intercept = model.intercept_\n",
    "print(\"\")\n",
    "print(\"#\" * 35)\n",
    "print(\"#OOO# Intercept is : \", intercept.round(2))\n",
    "\n",
    "y_train_pred = model.predict(X_train_poly)\n",
    "y_test_pred = model.predict(X_test_poly)\n",
    "\n",
    "train_r2 = r2_score(y_train, y_train_pred)\n",
    "train_mse = mean_squared_error(y_train, y_train_pred)\n",
    "train_mae = mean_absolute_error(y_train, y_train_pred)\n",
    "\n",
    "test_r2 = r2_score(y_test, y_test_pred)\n",
    "test_mse = mean_squared_error(y_test, y_test_pred)\n",
    "test_mae = mean_absolute_error(y_test, y_test_pred)\n",
    "\n",
    "print(\"#\" * 10, \"TRAIN\", \"#\" * 10)\n",
    "print(f'Train R^2: {train_r2:.5f}')\n",
    "print(f'Train MAE: {train_mae:,.2f}')\n",
    "print(f'Train MSE: {train_mse:,.2f}')\n",
    "print(\"\")\n",
    "print(\"#\" * 10, \"TEST\", \"#\" * 10)\n",
    "print(f'Test R^2: {test_r2:.5f}')\n",
    "print(f'Test MAE: {test_mae:,.2f}')\n",
    "print(f'Test MSE: {test_mse:,.2f}')\n",
    "print(\"\")\n",
    "print(\"#\" * 10, \"Overfitting Control\", \"#\" * 10)\n",
    "print(f\"Linear Regression Test MSE - Train MSE Difference: {test_mse - train_mse:,.2f}\")\n",
    "print(f\"Percentage Difference: {((test_mse - train_mse) / train_mse) * 100:.2f}%\")"
   ]
  },
  {
   "cell_type": "markdown",
   "metadata": {},
   "source": [
    "---\n",
    "---\n",
    "\n",
    "Veriyi minimum temizleme ile modelleyecek olursak :"
   ]
  },
  {
   "cell_type": "code",
   "execution_count": 72,
   "metadata": {},
   "outputs": [
    {
     "data": {
      "text/html": [
       "<div>\n",
       "<style scoped>\n",
       "    .dataframe tbody tr th:only-of-type {\n",
       "        vertical-align: middle;\n",
       "    }\n",
       "\n",
       "    .dataframe tbody tr th {\n",
       "        vertical-align: top;\n",
       "    }\n",
       "\n",
       "    .dataframe thead th {\n",
       "        text-align: right;\n",
       "    }\n",
       "</style>\n",
       "<table border=\"1\" class=\"dataframe\">\n",
       "  <thead>\n",
       "    <tr style=\"text-align: right;\">\n",
       "      <th></th>\n",
       "      <th>Age</th>\n",
       "      <th>Gender</th>\n",
       "      <th>Education Level</th>\n",
       "      <th>Job Title</th>\n",
       "      <th>Years of Experience</th>\n",
       "      <th>Salary</th>\n",
       "    </tr>\n",
       "  </thead>\n",
       "  <tbody>\n",
       "    <tr>\n",
       "      <th>0</th>\n",
       "      <td>32.0</td>\n",
       "      <td>Male</td>\n",
       "      <td>Bachelor's</td>\n",
       "      <td>Software Engineer</td>\n",
       "      <td>5.0</td>\n",
       "      <td>90000.0</td>\n",
       "    </tr>\n",
       "    <tr>\n",
       "      <th>1</th>\n",
       "      <td>28.0</td>\n",
       "      <td>Female</td>\n",
       "      <td>Master's</td>\n",
       "      <td>Data Analyst</td>\n",
       "      <td>3.0</td>\n",
       "      <td>65000.0</td>\n",
       "    </tr>\n",
       "    <tr>\n",
       "      <th>2</th>\n",
       "      <td>45.0</td>\n",
       "      <td>Male</td>\n",
       "      <td>PhD</td>\n",
       "      <td>Senior Manager</td>\n",
       "      <td>15.0</td>\n",
       "      <td>150000.0</td>\n",
       "    </tr>\n",
       "    <tr>\n",
       "      <th>3</th>\n",
       "      <td>36.0</td>\n",
       "      <td>Female</td>\n",
       "      <td>Bachelor's</td>\n",
       "      <td>Sales Associate</td>\n",
       "      <td>7.0</td>\n",
       "      <td>60000.0</td>\n",
       "    </tr>\n",
       "    <tr>\n",
       "      <th>4</th>\n",
       "      <td>52.0</td>\n",
       "      <td>Male</td>\n",
       "      <td>Master's</td>\n",
       "      <td>Director</td>\n",
       "      <td>20.0</td>\n",
       "      <td>200000.0</td>\n",
       "    </tr>\n",
       "  </tbody>\n",
       "</table>\n",
       "</div>"
      ],
      "text/plain": [
       "    Age  Gender Education Level          Job Title  Years of Experience  \\\n",
       "0  32.0    Male      Bachelor's  Software Engineer                  5.0   \n",
       "1  28.0  Female        Master's       Data Analyst                  3.0   \n",
       "2  45.0    Male             PhD     Senior Manager                 15.0   \n",
       "3  36.0  Female      Bachelor's    Sales Associate                  7.0   \n",
       "4  52.0    Male        Master's           Director                 20.0   \n",
       "\n",
       "     Salary  \n",
       "0   90000.0  \n",
       "1   65000.0  \n",
       "2  150000.0  \n",
       "3   60000.0  \n",
       "4  200000.0  "
      ]
     },
     "execution_count": 72,
     "metadata": {},
     "output_type": "execute_result"
    }
   ],
   "source": [
    "df = pd.read_csv(r\"C:\\Users\\gokde\\Desktop\\4. sinif\\Burcu hoca\\Salary_Data.csv\")\n",
    "df = df.dropna()\n",
    "df.head()"
   ]
  },
  {
   "cell_type": "code",
   "execution_count": 73,
   "metadata": {},
   "outputs": [],
   "source": [
    "X = df[df.columns].drop('Salary',axis = 1)\n",
    "Y = df['Salary']"
   ]
  },
  {
   "cell_type": "code",
   "execution_count": 74,
   "metadata": {},
   "outputs": [],
   "source": [
    "X['Job Family'] = X['Job Title'].apply(job_transformer)"
   ]
  },
  {
   "cell_type": "code",
   "execution_count": 75,
   "metadata": {},
   "outputs": [],
   "source": [
    "X = pd.get_dummies(\n",
    "    (X.drop('Job Title', axis = 1)),\n",
    "    dtype=int,drop_first = True)"
   ]
  },
  {
   "cell_type": "code",
   "execution_count": 76,
   "metadata": {},
   "outputs": [],
   "source": [
    "X_train, X_test, y_train, y_test = train_test_split(X, Y, test_size=0.20, random_state=42)"
   ]
  },
  {
   "cell_type": "code",
   "execution_count": 77,
   "metadata": {},
   "outputs": [
    {
     "data": {
      "text/plain": [
       "Index(['Age', 'Years of Experience', 'Gender_Male', 'Gender_Other',\n",
       "       'Education Level_Bachelor's Degree', 'Education Level_High School',\n",
       "       'Education Level_Master's', 'Education Level_Master's Degree',\n",
       "       'Education Level_PhD', 'Education Level_phD',\n",
       "       'Job Family_Customer Service / Support', 'Job Family_Design / Creative',\n",
       "       'Job Family_Executive', 'Job Family_Finance / Accounting',\n",
       "       'Job Family_Human Resources', 'Job Family_Marketing',\n",
       "       'Job Family_Operations', 'Job Family_Research / Science',\n",
       "       'Job Family_Sales', 'Job Family_Technology & Data'],\n",
       "      dtype='object')"
      ]
     },
     "execution_count": 77,
     "metadata": {},
     "output_type": "execute_result"
    }
   ],
   "source": [
    "X_train.columns"
   ]
  },
  {
   "cell_type": "code",
   "execution_count": 78,
   "metadata": {},
   "outputs": [
    {
     "name": "stdout",
     "output_type": "stream",
     "text": [
      "                            OLS Regression Results                            \n",
      "==============================================================================\n",
      "Dep. Variable:                 Salary   R-squared:                       0.799\n",
      "Model:                            OLS   Adj. R-squared:                  0.798\n",
      "Method:                 Least Squares   F-statistic:                     1061.\n",
      "Date:                Tue, 10 Dec 2024   Prob (F-statistic):               0.00\n",
      "Time:                        18:46:39   Log-Likelihood:                -61551.\n",
      "No. Observations:                5358   AIC:                         1.231e+05\n",
      "Df Residuals:                    5337   BIC:                         1.233e+05\n",
      "Df Model:                          20                                         \n",
      "Covariance Type:            nonrobust                                         \n",
      "=========================================================================================================\n",
      "                                            coef    std err          t      P>|t|      [0.025      0.975]\n",
      "---------------------------------------------------------------------------------------------------------\n",
      "const                                  1.084e+05   3370.388     32.162      0.000    1.02e+05    1.15e+05\n",
      "Age                                   -1011.0032    128.723     -7.854      0.000   -1263.353    -758.654\n",
      "Years of Experience                    6873.6801    162.876     42.202      0.000    6554.377    7192.983\n",
      "Gender_Male                            3699.2344    690.212      5.360      0.000    2346.137    5052.332\n",
      "Gender_Other                          -1.545e+04   7056.594     -2.190      0.029   -2.93e+04   -1619.412\n",
      "Education Level_Bachelor's Degree     -3.527e+04   1130.991    -31.182      0.000   -3.75e+04    -3.3e+04\n",
      "Education Level_High School           -5.578e+04   1911.104    -29.185      0.000   -5.95e+04    -5.2e+04\n",
      "Education Level_Master's               1.467e+04   1930.139      7.601      0.000    1.09e+04    1.85e+04\n",
      "Education Level_Master's Degree       -1.967e+04   1240.054    -15.858      0.000   -2.21e+04   -1.72e+04\n",
      "Education Level_PhD                   -7075.4684   1394.827     -5.073      0.000   -9809.899   -4341.038\n",
      "Education Level_phD                   -9441.2529   2.37e+04     -0.399      0.690   -5.59e+04     3.7e+04\n",
      "Job Family_Customer Service / Support -3.326e+04   7576.351     -4.390      0.000   -4.81e+04   -1.84e+04\n",
      "Job Family_Design / Creative          -1.418e+04   2779.907     -5.100      0.000   -1.96e+04   -8727.097\n",
      "Job Family_Executive                    2.46e+04   1.68e+04      1.465      0.143   -8324.798    5.75e+04\n",
      "Job Family_Finance / Accounting        8805.3305   2105.752      4.182      0.000    4677.197    1.29e+04\n",
      "Job Family_Human Resources            -1.518e+04   1971.818     -7.701      0.000    -1.9e+04   -1.13e+04\n",
      "Job Family_Marketing                  -3476.1025   1352.911     -2.569      0.010   -6128.361    -823.844\n",
      "Job Family_Operations                 -8740.8843   2484.662     -3.518      0.000   -1.36e+04   -3869.932\n",
      "Job Family_Research / Science          7171.7055   2653.087      2.703      0.007    1970.571    1.24e+04\n",
      "Job Family_Sales                      -5425.4860   1769.304     -3.066      0.002   -8894.045   -1956.927\n",
      "Job Family_Technology & Data           1.132e+04   1131.786     10.005      0.000    9105.181    1.35e+04\n",
      "==============================================================================\n",
      "Omnibus:                      237.291   Durbin-Watson:                   1.986\n",
      "Prob(Omnibus):                  0.000   Jarque-Bera (JB):              413.206\n",
      "Skew:                          -0.360   Prob(JB):                     1.88e-90\n",
      "Kurtosis:                       4.154   Cond. No.                     2.62e+03\n",
      "==============================================================================\n",
      "\n",
      "Notes:\n",
      "[1] Standard Errors assume that the covariance matrix of the errors is correctly specified.\n",
      "[2] The condition number is large, 2.62e+03. This might indicate that there are\n",
      "strong multicollinearity or other numerical problems.\n"
     ]
    }
   ],
   "source": [
    "X_train = sm.add_constant(X_train)\n",
    "X_test = sm.add_constant(X_test)\n",
    "\n",
    "model = sm.OLS(y_train, X_train)\n",
    "results = model.fit()\n",
    "\n",
    "print(results.summary())"
   ]
  },
  {
   "cell_type": "code",
   "execution_count": 79,
   "metadata": {},
   "outputs": [
    {
     "name": "stdout",
     "output_type": "stream",
     "text": [
      "                            OLS Regression Results                            \n",
      "==============================================================================\n",
      "Dep. Variable:                 Salary   R-squared:                       0.787\n",
      "Model:                            OLS   Adj. R-squared:                  0.784\n",
      "Method:                 Least Squares   F-statistic:                     271.2\n",
      "Date:                Tue, 10 Dec 2024   Prob (F-statistic):               0.00\n",
      "Time:                        18:46:39   Log-Likelihood:                -15452.\n",
      "No. Observations:                1340   AIC:                         3.094e+04\n",
      "Df Residuals:                    1321   BIC:                         3.104e+04\n",
      "Df Model:                          18                                         \n",
      "Covariance Type:            nonrobust                                         \n",
      "=========================================================================================================\n",
      "                                            coef    std err          t      P>|t|      [0.025      0.975]\n",
      "---------------------------------------------------------------------------------------------------------\n",
      "const                                  1.094e+05   7254.114     15.074      0.000    9.51e+04    1.24e+05\n",
      "Age                                   -1237.5809    270.036     -4.583      0.000   -1767.327    -707.835\n",
      "Years of Experience                    7067.3280    337.649     20.931      0.000    6404.941    7729.715\n",
      "Gender_Male                            7656.5226   1453.434      5.268      0.000    4805.233    1.05e+04\n",
      "Gender_Other                          -1.815e+04   1.81e+04     -1.002      0.317   -5.37e+04    1.74e+04\n",
      "Education Level_Bachelor's Degree     -3.174e+04   2392.042    -13.270      0.000   -3.64e+04    -2.7e+04\n",
      "Education Level_High School           -5.196e+04   4177.935    -12.438      0.000   -6.02e+04   -4.38e+04\n",
      "Education Level_Master's               1.284e+04   3735.988      3.436      0.001    5506.314    2.02e+04\n",
      "Education Level_Master's Degree       -1.605e+04   2617.688     -6.131      0.000   -2.12e+04   -1.09e+04\n",
      "Education Level_PhD                   -3507.3616   2913.735     -1.204      0.229   -9223.414    2208.691\n",
      "Education Level_phD                    7.545e-13   1.52e-12      0.496      0.620   -2.23e-12    3.74e-12\n",
      "Job Family_Customer Service / Support -6.472e+04   1.78e+04     -3.631      0.000   -9.97e+04   -2.98e+04\n",
      "Job Family_Design / Creative          -1.252e+04   5329.474     -2.349      0.019    -2.3e+04   -2066.071\n",
      "Job Family_Executive                   3.806e-11   9.11e-12      4.179      0.000    2.02e-11    5.59e-11\n",
      "Job Family_Finance / Accounting        1.513e+04   4649.651      3.253      0.001    6005.250    2.42e+04\n",
      "Job Family_Human Resources            -1.808e+04   4165.324     -4.340      0.000   -2.62e+04   -9906.486\n",
      "Job Family_Marketing                  -3877.9793   2887.129     -1.343      0.179   -9541.838    1785.880\n",
      "Job Family_Operations                 -1.212e+04   5000.911     -2.424      0.015   -2.19e+04   -2313.580\n",
      "Job Family_Research / Science         -3002.6967   6220.782     -0.483      0.629   -1.52e+04    9200.994\n",
      "Job Family_Sales                      -5751.7172   3708.273     -1.551      0.121    -1.3e+04    1523.030\n",
      "Job Family_Technology & Data           9990.8947   2446.906      4.083      0.000    5190.649    1.48e+04\n",
      "==============================================================================\n",
      "Omnibus:                       60.124   Durbin-Watson:                   2.003\n",
      "Prob(Omnibus):                  0.000   Jarque-Bera (JB):               98.445\n",
      "Skew:                          -0.366   Prob(JB):                     4.20e-22\n",
      "Kurtosis:                       4.108   Cond. No.                     7.81e+19\n",
      "==============================================================================\n",
      "\n",
      "Notes:\n",
      "[1] Standard Errors assume that the covariance matrix of the errors is correctly specified.\n",
      "[2] The smallest eigenvalue is 2.8e-34. This might indicate that there are\n",
      "strong multicollinearity problems or that the design matrix is singular.\n"
     ]
    }
   ],
   "source": [
    "model = sm.OLS(y_test, X_test)\n",
    "results = model.fit()\n",
    "\n",
    "print(results.summary())"
   ]
  },
  {
   "cell_type": "markdown",
   "metadata": {},
   "source": [
    "Model, garip bir şekilde düzeltilmemiş veri ile daha iyi performans gösteriyor. Bunun sebebinin, veri setinin dengesizliği ve satır sayısının kısmen az olması olduğunu düşünüyorum."
   ]
  }
 ],
 "metadata": {
  "kernelspec": {
   "display_name": "Python 3",
   "language": "python",
   "name": "python3"
  },
  "language_info": {
   "codemirror_mode": {
    "name": "ipython",
    "version": 3
   },
   "file_extension": ".py",
   "mimetype": "text/x-python",
   "name": "python",
   "nbconvert_exporter": "python",
   "pygments_lexer": "ipython3",
   "version": "3.11.9"
  }
 },
 "nbformat": 4,
 "nbformat_minor": 2
}
